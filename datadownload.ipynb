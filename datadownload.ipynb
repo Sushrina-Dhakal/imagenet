{
 "cells": [
  {
   "cell_type": "code",
   "execution_count": 1,
   "metadata": {},
   "outputs": [
    {
     "name": "stdout",
     "output_type": "stream",
     "text": [
      "Hello World\n"
     ]
    }
   ],
   "source": [
    "print(\"Hello World\")"
   ]
  },
  {
   "cell_type": "code",
   "execution_count": 2,
   "metadata": {},
   "outputs": [
    {
     "name": "stdout",
     "output_type": "stream",
     "text": [
      "Warning: Your Kaggle API key is readable by other users on this system! To fix this, you can run 'chmod 600 /Users/sushrinadhakal/.kaggle/kaggle.json'\n",
      "ref                          title            size  lastUpdated          downloadCount  voteCount  usabilityRating  \n",
      "---------------------------  ---------------  ----  -------------------  -------------  ---------  ---------------  \n",
      "casmirsunny/selfdrivingcars  SelfDrivingCars   3MB  2024-02-25 12:49:10             71         25  0.7058824        \n"
     ]
    }
   ],
   "source": [
    "!kaggle datasets list -s \"selfdrivingcars\""
   ]
  },
  {
   "cell_type": "code",
   "execution_count": 3,
   "metadata": {},
   "outputs": [
    {
     "name": "stdout",
     "output_type": "stream",
     "text": [
      "Warning: Your Kaggle API key is readable by other users on this system! To fix this, you can run 'chmod 600 /Users/sushrinadhakal/.kaggle/kaggle.json'\n",
      "ref                                                     title                                           size  lastUpdated          downloadCount  voteCount  usabilityRating  \n",
      "------------------------------------------------------  ---------------------------------------------  -----  -------------------  -------------  ---------  ---------------  \n",
      "alincijov/self-driving-cars                             Self-Driving Cars                              892MB  2021-12-08 14:50:47           6015         72  0.7058824        \n",
      "kumaresanmanickavelu/lyft-udacity-challenge             Semantic Segmentation for Self Driving Cars      5GB  2018-05-18 05:59:42           7987        147  0.75             \n",
      "pkdarabi/cardetection                                   Traffic Signs Detection                        100MB  2024-07-16 14:30:10           4420        121  1.0              \n",
      "roydatascience/training-car                             Training Set: Self Driving Cars                620MB  2019-03-07 22:14:49           1998         65  0.5294118        \n",
      "art12400/2019-autonomous-vehicle-disengagement-reports  2019 Autonomous Vehicle Disengagement Reports   58KB  2020-03-03 12:48:26            796         24  1.0              \n",
      "roydatascience/test-set-self-driving-cars               Train Set : Self Driving Cars                    4GB  2019-03-08 02:09:30            270         24  0.5625           \n",
      "trainingdatapro/roads-segmentation-dataset              Road Segmentation Dataset - vehicle dataset     16MB  2023-09-13 11:23:33           1413         41  1.0              \n",
      "sakshaymahna/kittiroadsegmentation                      KITTI-Road-Segmentation                        305MB  2021-10-24 13:23:47           2210         31  0.625            \n",
      "trainingdatapro/cars-video-object-tracking              Car Tracking & Object Detection Dataset          2GB  2023-07-27 05:32:38           1407         45  1.0              \n",
      "aayusmaanjain/bdd100k-for-self-driving-cars             BDD100k for self driving cars                    2GB  2022-11-04 20:55:48            335          3  0.75             \n",
      "trainingdatapro/car-masks                               Vehicle dataset - Images & Segmentation        139MB  2023-08-01 11:26:47            392         10  1.0              \n",
      "tapakah68/videos-around-cars                            Cars Dataset - 360° videos                     541MB  2023-08-01 16:17:58            259         25  1.0              \n",
      "casmirsunny/selfdrivingcars                             SelfDrivingCars                                  3MB  2024-02-25 12:49:10             71         25  0.7058824        \n",
      "sshikamaru/udacity-self-driving-car-dataset             Udacity Self Driving Car Dataset                 1GB  2022-07-02 03:36:04           1263         53  0.875            \n",
      "dpamgautam/video-file-for-lane-detection-project        video file for lane detection project           28MB  2019-03-18 19:08:40           1860         14  0.625            \n",
      "skihikingkevin/pubg-match-deaths                        PUBG Match Deaths and Statistics                 4GB  2018-01-12 15:22:04          17390        456  0.7647059        \n",
      "mbsoroush/car-camera-photos                             Car Camera Photos                              891MB  2024-08-05 08:34:37             58         10  1.0              \n",
      "zahidbooni/alltownswithweather                          CARLA ,Steering DataSet for Self Driving Cars   11GB  2021-09-03 04:30:01            397          5  0.75             \n",
      "shivamaggarwal513/semantic-segmentation-car-driving     Semantic Segmentation Car Driving Dataset      519MB  2024-02-19 23:30:22             35          3  0.875            \n",
      "ahmedfawzyelaraby/kitti-lidar-based-2d-depth-images     KITTI LiDAR Based 2D Depth Images                1GB  2020-07-22 09:23:02            518         18  0.875            \n"
     ]
    }
   ],
   "source": [
    "!kaggle datasets list -s \"Self-Driving Cars\""
   ]
  },
  {
   "cell_type": "code",
   "execution_count": 4,
   "metadata": {},
   "outputs": [],
   "source": [
    "# !kaggle datasets download -d \"alincijov/self-driving-cars\"\n"
   ]
  },
  {
   "cell_type": "code",
   "execution_count": 6,
   "metadata": {},
   "outputs": [],
   "source": [
    "import zipfile "
   ]
  },
  {
   "cell_type": "code",
   "execution_count": 7,
   "metadata": {},
   "outputs": [],
   "source": [
    "with zipfile.ZipFile(\"self-driving-cars.zip\",\"r\") as file:\n",
    "    file.extractall(\"cars\")"
   ]
  },
  {
   "cell_type": "code",
   "execution_count": null,
   "metadata": {},
   "outputs": [],
   "source": []
  }
 ],
 "metadata": {
  "kernelspec": {
   "display_name": "myenv",
   "language": "python",
   "name": "python3"
  },
  "language_info": {
   "codemirror_mode": {
    "name": "ipython",
    "version": 3
   },
   "file_extension": ".py",
   "mimetype": "text/x-python",
   "name": "python",
   "nbconvert_exporter": "python",
   "pygments_lexer": "ipython3",
   "version": "3.12.2"
  }
 },
 "nbformat": 4,
 "nbformat_minor": 2
}
