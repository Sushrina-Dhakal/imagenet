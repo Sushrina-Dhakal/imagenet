{
 "cells": [
  {
   "cell_type": "code",
   "execution_count": 1,
   "metadata": {},
   "outputs": [],
   "source": [
    "#Importing libraries\n",
    "import pandas as pd\n",
    "import numpy as np\n",
    "\n",
    "from sklearn.model_selection import train_test_split\n",
    "from tensorflow.keras.preprocessing.image import ImageDataGenerator,load_img,img_to_array\n",
    "\n",
    "import tensorflow as tf\n",
    "from tensorflow.keras.applications import ResNet50\n",
    "from tensorflow.keras.layers import Dense, Flatten \n",
    "from tensorflow.keras.models import Model\n",
    "\n",
    "from sklearn.metrics import precision_recall_fscore_support, classification_report"
   ]
  },
  {
   "cell_type": "code",
   "execution_count": 2,
   "metadata": {},
   "outputs": [],
   "source": [
    "#loading the dataset\n",
    "#taking only 1000 images for faster training\n",
    "train_labels= pd.read_csv(\"cars/labels_train.csv\")\n",
    "train_labels=train_labels[:1000]\n",
    "val_labels=pd.read_csv(\"cars/labels_trainval.csv\")\n",
    "val_labels=val_labels[:1000]\n"
   ]
  },
  {
   "cell_type": "code",
   "execution_count": 3,
   "metadata": {},
   "outputs": [
    {
     "data": {
      "text/html": [
       "<div>\n",
       "<style scoped>\n",
       "    .dataframe tbody tr th:only-of-type {\n",
       "        vertical-align: middle;\n",
       "    }\n",
       "\n",
       "    .dataframe tbody tr th {\n",
       "        vertical-align: top;\n",
       "    }\n",
       "\n",
       "    .dataframe thead th {\n",
       "        text-align: right;\n",
       "    }\n",
       "</style>\n",
       "<table border=\"1\" class=\"dataframe\">\n",
       "  <thead>\n",
       "    <tr style=\"text-align: right;\">\n",
       "      <th></th>\n",
       "      <th>frame</th>\n",
       "      <th>xmin</th>\n",
       "      <th>xmax</th>\n",
       "      <th>ymin</th>\n",
       "      <th>ymax</th>\n",
       "      <th>class_id</th>\n",
       "    </tr>\n",
       "  </thead>\n",
       "  <tbody>\n",
       "    <tr>\n",
       "      <th>0</th>\n",
       "      <td>1478019952686311006.jpg</td>\n",
       "      <td>237</td>\n",
       "      <td>251</td>\n",
       "      <td>143</td>\n",
       "      <td>155</td>\n",
       "      <td>1</td>\n",
       "    </tr>\n",
       "    <tr>\n",
       "      <th>1</th>\n",
       "      <td>1478019952686311006.jpg</td>\n",
       "      <td>437</td>\n",
       "      <td>454</td>\n",
       "      <td>120</td>\n",
       "      <td>186</td>\n",
       "      <td>3</td>\n",
       "    </tr>\n",
       "    <tr>\n",
       "      <th>2</th>\n",
       "      <td>1478019953180167674.jpg</td>\n",
       "      <td>218</td>\n",
       "      <td>231</td>\n",
       "      <td>146</td>\n",
       "      <td>158</td>\n",
       "      <td>1</td>\n",
       "    </tr>\n",
       "    <tr>\n",
       "      <th>3</th>\n",
       "      <td>1478019953689774621.jpg</td>\n",
       "      <td>171</td>\n",
       "      <td>182</td>\n",
       "      <td>141</td>\n",
       "      <td>154</td>\n",
       "      <td>2</td>\n",
       "    </tr>\n",
       "    <tr>\n",
       "      <th>4</th>\n",
       "      <td>1478019953689774621.jpg</td>\n",
       "      <td>179</td>\n",
       "      <td>191</td>\n",
       "      <td>144</td>\n",
       "      <td>155</td>\n",
       "      <td>1</td>\n",
       "    </tr>\n",
       "  </tbody>\n",
       "</table>\n",
       "</div>"
      ],
      "text/plain": [
       "                     frame  xmin  xmax  ymin  ymax  class_id\n",
       "0  1478019952686311006.jpg   237   251   143   155         1\n",
       "1  1478019952686311006.jpg   437   454   120   186         3\n",
       "2  1478019953180167674.jpg   218   231   146   158         1\n",
       "3  1478019953689774621.jpg   171   182   141   154         2\n",
       "4  1478019953689774621.jpg   179   191   144   155         1"
      ]
     },
     "execution_count": 3,
     "metadata": {},
     "output_type": "execute_result"
    }
   ],
   "source": [
    "train_labels.head()"
   ]
  },
  {
   "cell_type": "code",
   "execution_count": 4,
   "metadata": {},
   "outputs": [
    {
     "data": {
      "text/html": [
       "<div>\n",
       "<style scoped>\n",
       "    .dataframe tbody tr th:only-of-type {\n",
       "        vertical-align: middle;\n",
       "    }\n",
       "\n",
       "    .dataframe tbody tr th {\n",
       "        vertical-align: top;\n",
       "    }\n",
       "\n",
       "    .dataframe thead th {\n",
       "        text-align: right;\n",
       "    }\n",
       "</style>\n",
       "<table border=\"1\" class=\"dataframe\">\n",
       "  <thead>\n",
       "    <tr style=\"text-align: right;\">\n",
       "      <th></th>\n",
       "      <th>frame</th>\n",
       "      <th>xmin</th>\n",
       "      <th>xmax</th>\n",
       "      <th>ymin</th>\n",
       "      <th>ymax</th>\n",
       "      <th>class_id</th>\n",
       "    </tr>\n",
       "  </thead>\n",
       "  <tbody>\n",
       "    <tr>\n",
       "      <th>0</th>\n",
       "      <td>1478019952686311006.jpg</td>\n",
       "      <td>237</td>\n",
       "      <td>251</td>\n",
       "      <td>143</td>\n",
       "      <td>155</td>\n",
       "      <td>1</td>\n",
       "    </tr>\n",
       "    <tr>\n",
       "      <th>1</th>\n",
       "      <td>1478019952686311006.jpg</td>\n",
       "      <td>437</td>\n",
       "      <td>454</td>\n",
       "      <td>120</td>\n",
       "      <td>186</td>\n",
       "      <td>3</td>\n",
       "    </tr>\n",
       "    <tr>\n",
       "      <th>2</th>\n",
       "      <td>1478019953180167674.jpg</td>\n",
       "      <td>218</td>\n",
       "      <td>231</td>\n",
       "      <td>146</td>\n",
       "      <td>158</td>\n",
       "      <td>1</td>\n",
       "    </tr>\n",
       "    <tr>\n",
       "      <th>3</th>\n",
       "      <td>1478019953689774621.jpg</td>\n",
       "      <td>171</td>\n",
       "      <td>182</td>\n",
       "      <td>141</td>\n",
       "      <td>154</td>\n",
       "      <td>2</td>\n",
       "    </tr>\n",
       "    <tr>\n",
       "      <th>4</th>\n",
       "      <td>1478019953689774621.jpg</td>\n",
       "      <td>179</td>\n",
       "      <td>191</td>\n",
       "      <td>144</td>\n",
       "      <td>155</td>\n",
       "      <td>1</td>\n",
       "    </tr>\n",
       "  </tbody>\n",
       "</table>\n",
       "</div>"
      ],
      "text/plain": [
       "                     frame  xmin  xmax  ymin  ymax  class_id\n",
       "0  1478019952686311006.jpg   237   251   143   155         1\n",
       "1  1478019952686311006.jpg   437   454   120   186         3\n",
       "2  1478019953180167674.jpg   218   231   146   158         1\n",
       "3  1478019953689774621.jpg   171   182   141   154         2\n",
       "4  1478019953689774621.jpg   179   191   144   155         1"
      ]
     },
     "execution_count": 4,
     "metadata": {},
     "output_type": "execute_result"
    }
   ],
   "source": [
    "val_labels.head()"
   ]
  },
  {
   "cell_type": "code",
   "execution_count": 5,
   "metadata": {},
   "outputs": [
    {
     "data": {
      "text/plain": [
       "((1000, 6), (1000, 6))"
      ]
     },
     "execution_count": 5,
     "metadata": {},
     "output_type": "execute_result"
    }
   ],
   "source": [
    "#Checking the number of rows and columns\n",
    "train_labels.shape,val_labels.shape"
   ]
  },
  {
   "cell_type": "markdown",
   "metadata": {},
   "source": [
    "Since restnet expects the input size of the image as 224x224 imagesize, we preprocess the data"
   ]
  },
  {
   "cell_type": "code",
   "execution_count": 6,
   "metadata": {},
   "outputs": [],
   "source": [
    "train_labels[['xmin','xmax']]/=224"
   ]
  },
  {
   "cell_type": "code",
   "execution_count": 7,
   "metadata": {},
   "outputs": [],
   "source": [
    "train_labels[[\"ymin\",\"ymax\"]]/=224"
   ]
  },
  {
   "cell_type": "code",
   "execution_count": 8,
   "metadata": {},
   "outputs": [
    {
     "data": {
      "text/html": [
       "<div>\n",
       "<style scoped>\n",
       "    .dataframe tbody tr th:only-of-type {\n",
       "        vertical-align: middle;\n",
       "    }\n",
       "\n",
       "    .dataframe tbody tr th {\n",
       "        vertical-align: top;\n",
       "    }\n",
       "\n",
       "    .dataframe thead th {\n",
       "        text-align: right;\n",
       "    }\n",
       "</style>\n",
       "<table border=\"1\" class=\"dataframe\">\n",
       "  <thead>\n",
       "    <tr style=\"text-align: right;\">\n",
       "      <th></th>\n",
       "      <th>frame</th>\n",
       "      <th>xmin</th>\n",
       "      <th>xmax</th>\n",
       "      <th>ymin</th>\n",
       "      <th>ymax</th>\n",
       "      <th>class_id</th>\n",
       "    </tr>\n",
       "  </thead>\n",
       "  <tbody>\n",
       "    <tr>\n",
       "      <th>0</th>\n",
       "      <td>1478019952686311006.jpg</td>\n",
       "      <td>1.058036</td>\n",
       "      <td>1.120536</td>\n",
       "      <td>0.638393</td>\n",
       "      <td>0.691964</td>\n",
       "      <td>1</td>\n",
       "    </tr>\n",
       "    <tr>\n",
       "      <th>1</th>\n",
       "      <td>1478019952686311006.jpg</td>\n",
       "      <td>1.950893</td>\n",
       "      <td>2.026786</td>\n",
       "      <td>0.535714</td>\n",
       "      <td>0.830357</td>\n",
       "      <td>3</td>\n",
       "    </tr>\n",
       "    <tr>\n",
       "      <th>2</th>\n",
       "      <td>1478019953180167674.jpg</td>\n",
       "      <td>0.973214</td>\n",
       "      <td>1.031250</td>\n",
       "      <td>0.651786</td>\n",
       "      <td>0.705357</td>\n",
       "      <td>1</td>\n",
       "    </tr>\n",
       "    <tr>\n",
       "      <th>3</th>\n",
       "      <td>1478019953689774621.jpg</td>\n",
       "      <td>0.763393</td>\n",
       "      <td>0.812500</td>\n",
       "      <td>0.629464</td>\n",
       "      <td>0.687500</td>\n",
       "      <td>2</td>\n",
       "    </tr>\n",
       "    <tr>\n",
       "      <th>4</th>\n",
       "      <td>1478019953689774621.jpg</td>\n",
       "      <td>0.799107</td>\n",
       "      <td>0.852679</td>\n",
       "      <td>0.642857</td>\n",
       "      <td>0.691964</td>\n",
       "      <td>1</td>\n",
       "    </tr>\n",
       "  </tbody>\n",
       "</table>\n",
       "</div>"
      ],
      "text/plain": [
       "                     frame      xmin      xmax      ymin      ymax  class_id\n",
       "0  1478019952686311006.jpg  1.058036  1.120536  0.638393  0.691964         1\n",
       "1  1478019952686311006.jpg  1.950893  2.026786  0.535714  0.830357         3\n",
       "2  1478019953180167674.jpg  0.973214  1.031250  0.651786  0.705357         1\n",
       "3  1478019953689774621.jpg  0.763393  0.812500  0.629464  0.687500         2\n",
       "4  1478019953689774621.jpg  0.799107  0.852679  0.642857  0.691964         1"
      ]
     },
     "execution_count": 8,
     "metadata": {},
     "output_type": "execute_result"
    }
   ],
   "source": [
    "train_labels.head()"
   ]
  },
  {
   "cell_type": "code",
   "execution_count": 9,
   "metadata": {},
   "outputs": [],
   "source": [
    "val_labels[['xmin','xmax']]/=224"
   ]
  },
  {
   "cell_type": "code",
   "execution_count": 10,
   "metadata": {},
   "outputs": [],
   "source": [
    "val_labels[['ymin','ymax']]/=224"
   ]
  },
  {
   "cell_type": "code",
   "execution_count": 11,
   "metadata": {},
   "outputs": [
    {
     "data": {
      "text/html": [
       "<div>\n",
       "<style scoped>\n",
       "    .dataframe tbody tr th:only-of-type {\n",
       "        vertical-align: middle;\n",
       "    }\n",
       "\n",
       "    .dataframe tbody tr th {\n",
       "        vertical-align: top;\n",
       "    }\n",
       "\n",
       "    .dataframe thead th {\n",
       "        text-align: right;\n",
       "    }\n",
       "</style>\n",
       "<table border=\"1\" class=\"dataframe\">\n",
       "  <thead>\n",
       "    <tr style=\"text-align: right;\">\n",
       "      <th></th>\n",
       "      <th>frame</th>\n",
       "      <th>xmin</th>\n",
       "      <th>xmax</th>\n",
       "      <th>ymin</th>\n",
       "      <th>ymax</th>\n",
       "      <th>class_id</th>\n",
       "    </tr>\n",
       "  </thead>\n",
       "  <tbody>\n",
       "    <tr>\n",
       "      <th>0</th>\n",
       "      <td>1478019952686311006.jpg</td>\n",
       "      <td>1.058036</td>\n",
       "      <td>1.120536</td>\n",
       "      <td>0.638393</td>\n",
       "      <td>0.691964</td>\n",
       "      <td>1</td>\n",
       "    </tr>\n",
       "    <tr>\n",
       "      <th>1</th>\n",
       "      <td>1478019952686311006.jpg</td>\n",
       "      <td>1.950893</td>\n",
       "      <td>2.026786</td>\n",
       "      <td>0.535714</td>\n",
       "      <td>0.830357</td>\n",
       "      <td>3</td>\n",
       "    </tr>\n",
       "    <tr>\n",
       "      <th>2</th>\n",
       "      <td>1478019953180167674.jpg</td>\n",
       "      <td>0.973214</td>\n",
       "      <td>1.031250</td>\n",
       "      <td>0.651786</td>\n",
       "      <td>0.705357</td>\n",
       "      <td>1</td>\n",
       "    </tr>\n",
       "    <tr>\n",
       "      <th>3</th>\n",
       "      <td>1478019953689774621.jpg</td>\n",
       "      <td>0.763393</td>\n",
       "      <td>0.812500</td>\n",
       "      <td>0.629464</td>\n",
       "      <td>0.687500</td>\n",
       "      <td>2</td>\n",
       "    </tr>\n",
       "    <tr>\n",
       "      <th>4</th>\n",
       "      <td>1478019953689774621.jpg</td>\n",
       "      <td>0.799107</td>\n",
       "      <td>0.852679</td>\n",
       "      <td>0.642857</td>\n",
       "      <td>0.691964</td>\n",
       "      <td>1</td>\n",
       "    </tr>\n",
       "  </tbody>\n",
       "</table>\n",
       "</div>"
      ],
      "text/plain": [
       "                     frame      xmin      xmax      ymin      ymax  class_id\n",
       "0  1478019952686311006.jpg  1.058036  1.120536  0.638393  0.691964         1\n",
       "1  1478019952686311006.jpg  1.950893  2.026786  0.535714  0.830357         3\n",
       "2  1478019953180167674.jpg  0.973214  1.031250  0.651786  0.705357         1\n",
       "3  1478019953689774621.jpg  0.763393  0.812500  0.629464  0.687500         2\n",
       "4  1478019953689774621.jpg  0.799107  0.852679  0.642857  0.691964         1"
      ]
     },
     "execution_count": 11,
     "metadata": {},
     "output_type": "execute_result"
    }
   ],
   "source": [
    "val_labels.head()"
   ]
  },
  {
   "cell_type": "markdown",
   "metadata": {},
   "source": [
    "For splitting training data into train and test"
   ]
  },
  {
   "cell_type": "code",
   "execution_count": 12,
   "metadata": {},
   "outputs": [],
   "source": [
    "train_data, test_data=train_test_split(train_labels,test_size=0.2,random_state=42)"
   ]
  },
  {
   "cell_type": "markdown",
   "metadata": {},
   "source": [
    "For data augmentation"
   ]
  },
  {
   "cell_type": "code",
   "execution_count": 13,
   "metadata": {},
   "outputs": [],
   "source": [
    "augmentor= ImageDataGenerator(rotation_range=20,shear_range=0.2, zoom_range=0.2, horizontal_flip=True, fill_mode=\"nearest\", width_shift_range=0.2, height_shift_range=0.2)"
   ]
  },
  {
   "cell_type": "markdown",
   "metadata": {},
   "source": [
    "Preparing training data"
   ]
  },
  {
   "cell_type": "code",
   "execution_count": 14,
   "metadata": {},
   "outputs": [],
   "source": [
    "images=[]\n",
    "labels=[]\n",
    "for i,row in train_data.iterrows():\n",
    "    image_path=f\"cars/images/{row['frame']}\"\n",
    "    img=load_img(image_path, target_size=(224,224))\n",
    "    img=img_to_array(img)\n",
    "    img=augmentor.random_transform(img)\n",
    "    images.append(img)\n",
    "    labels.append([row['xmin'],row['xmax'],row['ymin'],row['ymax'],row['class_id']])"
   ]
  },
  {
   "cell_type": "code",
   "execution_count": 15,
   "metadata": {},
   "outputs": [],
   "source": [
    "images=np.array(images)"
   ]
  },
  {
   "cell_type": "code",
   "execution_count": 16,
   "metadata": {},
   "outputs": [],
   "source": [
    "labels=np.array(labels)"
   ]
  },
  {
   "cell_type": "code",
   "execution_count": 17,
   "metadata": {},
   "outputs": [],
   "source": [
    "test_images=[]\n",
    "test_labels=[]\n",
    "\n",
    "for i, row in test_data.iterrows():\n",
    "    image_path=f\"cars/images/{row['frame']}\"\n",
    "    img=load_img(image_path,target_size=(224,224))\n",
    "    img=img_to_array(img)\n",
    "    test_images.append(img)\n",
    "    test_labels.append([row['xmin'],row['xmax'],row['ymin'],row['ymax'],row['class_id']])\n",
    "\n",
    "    "
   ]
  },
  {
   "cell_type": "code",
   "execution_count": 18,
   "metadata": {},
   "outputs": [],
   "source": [
    "test_images=np.array(test_images)\n",
    "test_labels=np.array(test_labels)"
   ]
  },
  {
   "cell_type": "code",
   "execution_count": 19,
   "metadata": {},
   "outputs": [],
   "source": [
    "#creating a base model using ResNet\n",
    "#include_top=False because we are not importing output layers like dense and flatten\n",
    "base_model=ResNet50(weights=\"imagenet\",include_top=False, input_shape=(224,224,3))\n",
    "# Freeze the layers of the base model\n",
    "for layer in base_model.layers:\n",
    "    layer.trainable = False"
   ]
  },
  {
   "cell_type": "code",
   "execution_count": 20,
   "metadata": {},
   "outputs": [],
   "source": [
    "#extracting the feature map of the base model.\n",
    "x=base_model.output\n",
    "x=Flatten()(x)\n",
    "x=Dense(1024,activation=\"relu\")(x)\n",
    "x=Dense(512,activation=\"relu\")(x)\n",
    "#5 final memory neurons because 4 for bounding box coordinates and one for class label.\n",
    "output=Dense(5,activation=\"linear\")(x)"
   ]
  },
  {
   "cell_type": "code",
   "execution_count": 21,
   "metadata": {},
   "outputs": [],
   "source": [
    "model=Model(inputs=base_model.input,outputs=output)"
   ]
  },
  {
   "cell_type": "code",
   "execution_count": 22,
   "metadata": {},
   "outputs": [],
   "source": [
    "model.compile(optimizer=\"adam\",loss=\"mean_squared_error\",metrics=['accuracy'])"
   ]
  },
  {
   "cell_type": "code",
   "execution_count": 23,
   "metadata": {},
   "outputs": [],
   "source": [
    "#model.summary()"
   ]
  },
  {
   "cell_type": "markdown",
   "metadata": {},
   "source": [
    "Training the model for 10 epochs"
   ]
  },
  {
   "cell_type": "code",
   "execution_count": 24,
   "metadata": {},
   "outputs": [
    {
     "name": "stdout",
     "output_type": "stream",
     "text": [
      "Epoch 1/20\n",
      "\u001b[1m100/100\u001b[0m \u001b[32m━━━━━━━━━━━━━━━━━━━━\u001b[0m\u001b[37m\u001b[0m \u001b[1m126s\u001b[0m 1s/step - accuracy: 0.3250 - loss: 1325.1506 - val_accuracy: 0.0050 - val_loss: 22.1711\n",
      "Epoch 2/20\n",
      "\u001b[1m100/100\u001b[0m \u001b[32m━━━━━━━━━━━━━━━━━━━━\u001b[0m\u001b[37m\u001b[0m \u001b[1m127s\u001b[0m 1s/step - accuracy: 0.2195 - loss: 27.1520 - val_accuracy: 0.8400 - val_loss: 8.8099\n",
      "Epoch 3/20\n",
      "\u001b[1m100/100\u001b[0m \u001b[32m━━━━━━━━━━━━━━━━━━━━\u001b[0m\u001b[37m\u001b[0m \u001b[1m128s\u001b[0m 1s/step - accuracy: 0.4055 - loss: 7.9170 - val_accuracy: 0.8450 - val_loss: 7.0327\n",
      "Epoch 4/20\n",
      "\u001b[1m100/100\u001b[0m \u001b[32m━━━━━━━━━━━━━━━━━━━━\u001b[0m\u001b[37m\u001b[0m \u001b[1m130s\u001b[0m 1s/step - accuracy: 0.5723 - loss: 2.7767 - val_accuracy: 0.7700 - val_loss: 3.0561\n",
      "Epoch 5/20\n",
      "\u001b[1m100/100\u001b[0m \u001b[32m━━━━━━━━━━━━━━━━━━━━\u001b[0m\u001b[37m\u001b[0m \u001b[1m129s\u001b[0m 1s/step - accuracy: 0.6122 - loss: 1.4068 - val_accuracy: 0.8000 - val_loss: 1.0524\n",
      "Epoch 6/20\n",
      "\u001b[1m100/100\u001b[0m \u001b[32m━━━━━━━━━━━━━━━━━━━━\u001b[0m\u001b[37m\u001b[0m \u001b[1m131s\u001b[0m 1s/step - accuracy: 0.7099 - loss: 0.6714 - val_accuracy: 0.8050 - val_loss: 0.9893\n",
      "Epoch 7/20\n",
      "\u001b[1m100/100\u001b[0m \u001b[32m━━━━━━━━━━━━━━━━━━━━\u001b[0m\u001b[37m\u001b[0m \u001b[1m130s\u001b[0m 1s/step - accuracy: 0.6779 - loss: 0.5233 - val_accuracy: 0.7200 - val_loss: 1.4588\n",
      "Epoch 8/20\n",
      "\u001b[1m100/100\u001b[0m \u001b[32m━━━━━━━━━━━━━━━━━━━━\u001b[0m\u001b[37m\u001b[0m \u001b[1m130s\u001b[0m 1s/step - accuracy: 0.6649 - loss: 0.3499 - val_accuracy: 0.7000 - val_loss: 1.2090\n",
      "Epoch 9/20\n",
      "\u001b[1m100/100\u001b[0m \u001b[32m━━━━━━━━━━━━━━━━━━━━\u001b[0m\u001b[37m\u001b[0m \u001b[1m138s\u001b[0m 1s/step - accuracy: 0.7126 - loss: 0.2914 - val_accuracy: 0.7400 - val_loss: 1.8433\n",
      "Epoch 10/20\n",
      "\u001b[1m100/100\u001b[0m \u001b[32m━━━━━━━━━━━━━━━━━━━━\u001b[0m\u001b[37m\u001b[0m \u001b[1m130s\u001b[0m 1s/step - accuracy: 0.6777 - loss: 0.2416 - val_accuracy: 0.8300 - val_loss: 1.0227\n",
      "Epoch 11/20\n",
      "\u001b[1m100/100\u001b[0m \u001b[32m━━━━━━━━━━━━━━━━━━━━\u001b[0m\u001b[37m\u001b[0m \u001b[1m130s\u001b[0m 1s/step - accuracy: 0.6612 - loss: 0.2288 - val_accuracy: 0.7300 - val_loss: 1.1708\n",
      "Epoch 12/20\n",
      "\u001b[1m100/100\u001b[0m \u001b[32m━━━━━━━━━━━━━━━━━━━━\u001b[0m\u001b[37m\u001b[0m \u001b[1m130s\u001b[0m 1s/step - accuracy: 0.6737 - loss: 0.3274 - val_accuracy: 0.8150 - val_loss: 1.1975\n",
      "Epoch 13/20\n",
      "\u001b[1m100/100\u001b[0m \u001b[32m━━━━━━━━━━━━━━━━━━━━\u001b[0m\u001b[37m\u001b[0m \u001b[1m130s\u001b[0m 1s/step - accuracy: 0.6864 - loss: 0.3971 - val_accuracy: 0.8450 - val_loss: 1.4325\n",
      "Epoch 14/20\n",
      "\u001b[1m100/100\u001b[0m \u001b[32m━━━━━━━━━━━━━━━━━━━━\u001b[0m\u001b[37m\u001b[0m \u001b[1m130s\u001b[0m 1s/step - accuracy: 0.6831 - loss: 0.3203 - val_accuracy: 0.7800 - val_loss: 1.0067\n",
      "Epoch 15/20\n",
      "\u001b[1m100/100\u001b[0m \u001b[32m━━━━━━━━━━━━━━━━━━━━\u001b[0m\u001b[37m\u001b[0m \u001b[1m130s\u001b[0m 1s/step - accuracy: 0.6804 - loss: 0.4019 - val_accuracy: 0.5800 - val_loss: 1.3184\n",
      "Epoch 16/20\n",
      "\u001b[1m100/100\u001b[0m \u001b[32m━━━━━━━━━━━━━━━━━━━━\u001b[0m\u001b[37m\u001b[0m \u001b[1m130s\u001b[0m 1s/step - accuracy: 0.6460 - loss: 0.5698 - val_accuracy: 0.8300 - val_loss: 0.9687\n",
      "Epoch 17/20\n",
      "\u001b[1m100/100\u001b[0m \u001b[32m━━━━━━━━━━━━━━━━━━━━\u001b[0m\u001b[37m\u001b[0m \u001b[1m131s\u001b[0m 1s/step - accuracy: 0.6372 - loss: 0.4906 - val_accuracy: 0.8100 - val_loss: 0.8568\n",
      "Epoch 18/20\n",
      "\u001b[1m100/100\u001b[0m \u001b[32m━━━━━━━━━━━━━━━━━━━━\u001b[0m\u001b[37m\u001b[0m \u001b[1m132s\u001b[0m 1s/step - accuracy: 0.6865 - loss: 0.4968 - val_accuracy: 0.6800 - val_loss: 1.0378\n",
      "Epoch 19/20\n",
      "\u001b[1m100/100\u001b[0m \u001b[32m━━━━━━━━━━━━━━━━━━━━\u001b[0m\u001b[37m\u001b[0m \u001b[1m131s\u001b[0m 1s/step - accuracy: 0.6921 - loss: 0.4051 - val_accuracy: 0.7850 - val_loss: 0.9390\n",
      "Epoch 20/20\n",
      "\u001b[1m100/100\u001b[0m \u001b[32m━━━━━━━━━━━━━━━━━━━━\u001b[0m\u001b[37m\u001b[0m \u001b[1m131s\u001b[0m 1s/step - accuracy: 0.6055 - loss: 1.5361 - val_accuracy: 0.6500 - val_loss: 1.2194\n"
     ]
    }
   ],
   "source": [
    "history=model.fit(images,labels,batch_size=8,epochs=20,validation_data=(test_images,test_labels))"
   ]
  },
  {
   "cell_type": "code",
   "execution_count": 25,
   "metadata": {},
   "outputs": [
    {
     "data": {
      "image/png": "[encoded data removed]",
      "text/plain": [
       "<Figure size 640x480 with 1 Axes>"
      ]
     },
     "metadata": {},
     "output_type": "display_data"
    },
    {
     "data": {
      "image/png": "[encoded data removed]",
      "text/plain": [
       "<Figure size 640x480 with 1 Axes>"
      ]
     },
     "metadata": {},
     "output_type": "display_data"
    },
    {
     "data": {
      "text/plain": [
       "<Figure size 640x480 with 0 Axes>"
      ]
     },
     "metadata": {},
     "output_type": "display_data"
    }
   ],
   "source": [
    "import matplotlib.pyplot as plt\n",
    "plt.plot(history.history['loss'], label='train loss')\n",
    "plt.plot(history.history['val_loss'], label='val loss')\n",
    "plt.legend()\n",
    "plt.show()\n",
    "plt.savefig('LossVal_loss')\n",
    "\n",
    "# plot the accuracy\n",
    "plt.plot(history.history['accuracy'], label='train acc')\n",
    "plt.plot(history.history['val_accuracy'], label='val acc')\n",
    "plt.legend()\n",
    "plt.show()\n",
    "plt.savefig('AccVal_acc')"
   ]
  },
  {
   "cell_type": "code",
   "execution_count": 26,
   "metadata": {},
   "outputs": [
    {
     "name": "stdout",
     "output_type": "stream",
     "text": [
      "\u001b[1m7/7\u001b[0m \u001b[32m━━━━━━━━━━━━━━━━━━━━\u001b[0m\u001b[37m\u001b[0m \u001b[1m14s\u001b[0m 2s/step - accuracy: 0.6777 - loss: 1.2470\n"
     ]
    },
    {
     "data": {
      "text/plain": [
       "[1.2194340229034424, 0.6499999761581421]"
      ]
     },
     "execution_count": 26,
     "metadata": {},
     "output_type": "execute_result"
    }
   ],
   "source": [
    "#Evaluating the model\n",
    "\n",
    "model.evaluate(test_images, test_labels)"
   ]
  },
  {
   "cell_type": "code",
   "execution_count": 31,
   "metadata": {},
   "outputs": [
    {
     "name": "stderr",
     "output_type": "stream",
     "text": [
      "WARNING:absl:You are saving your model as an HDF5 file via `model.save()` or `keras.saving.save_model(model)`. This file format is considered legacy. We recommend using instead the native Keras format, e.g. `model.save('my_model.keras')` or `keras.saving.save_model(model, 'my_model.keras')`. \n"
     ]
    }
   ],
   "source": [
    "model.save(\"Car_detection.h5\")"
   ]
  },
  {
   "cell_type": "code",
   "execution_count": 30,
   "metadata": {},
   "outputs": [],
   "source": [
    "model.save(\"Car_detectionmodel_keras.keras\")"
   ]
  },
  {
   "cell_type": "code",
   "execution_count": 33,
   "metadata": {},
   "outputs": [
    {
     "name": "stdout",
     "output_type": "stream",
     "text": [
      "\u001b[1m7/7\u001b[0m \u001b[32m━━━━━━━━━━━━━━━━━━━━\u001b[0m\u001b[37m\u001b[0m \u001b[1m43s\u001b[0m 7s/step\n"
     ]
    }
   ],
   "source": [
    "prediction=model.predict(test_images)"
   ]
  },
  {
   "cell_type": "code",
   "execution_count": 34,
   "metadata": {},
   "outputs": [
    {
     "data": {
      "text/plain": [
       "array([[ 0.697935  ,  1.0444497 ,  1.5023841 ,  0.51901305,  2.484561  ],\n",
       "       [ 1.8986763 ,  0.74441946,  1.4913987 ,  0.6403643 ,  2.995637  ],\n",
       "       [ 1.8986763 ,  0.74441946,  1.4913987 ,  0.6403643 ,  2.995637  ],\n",
       "       [ 1.3837415 ,  1.0864061 ,  1.7953118 ,  0.3260704 ,  2.1728172 ],\n",
       "       [ 0.9086174 ,  0.46694124,  1.97503   ,  0.4927412 ,  2.3484755 ],\n",
       "       [ 1.2863334 ,  1.3584474 ,  1.964779  ,  0.45690593,  1.8264359 ],\n",
       "       [ 1.8388072 ,  1.3757404 ,  1.9105531 ,  0.16156922,  4.0039454 ],\n",
       "       [ 0.697935  ,  1.0444497 ,  1.5023841 ,  0.51901305,  2.484561  ],\n",
       "       [ 0.9238781 ,  0.55992734,  2.083136  ,  0.48804244,  1.4973992 ],\n",
       "       [ 1.0086097 , -0.10533773,  1.8921144 ,  0.43121108,  2.3103533 ],\n",
       "       [ 1.7157315 ,  1.5425557 ,  1.6469204 ,  0.4616743 ,  4.157073  ],\n",
       "       [ 0.88728607,  0.5252007 ,  1.8891991 ,  0.32553348,  1.0923089 ],\n",
       "       [ 1.1576685 ,  1.0554699 ,  2.180095  ,  0.46896324,  2.760087  ],\n",
       "       [ 1.3580354 ,  0.4357103 ,  2.063035  ,  0.36739406,  1.4573392 ],\n",
       "       [ 1.4870919 ,  0.65567815,  1.5117272 ,  0.2609478 ,  3.8275251 ],\n",
       "       [ 1.2996725 ,  0.79948413,  1.9549756 ,  0.5299765 ,  3.0472307 ],\n",
       "       [ 1.5684003 , -0.0856744 ,  1.0635602 ,  0.7194449 ,  2.573182  ],\n",
       "       [ 1.8137506 ,  0.65538013,  2.0622144 ,  0.49319038,  2.472146  ],\n",
       "       [ 0.47276485,  0.7779459 ,  2.0890744 ,  0.5442978 ,  2.2881594 ],\n",
       "       [ 1.2416786 ,  0.25350845,  1.6171212 ,  0.74012244,  2.7672987 ],\n",
       "       [ 0.6353468 ,  0.89533603,  1.4903995 ,  0.55164206,  3.3454504 ],\n",
       "       [ 0.92437255,  0.302328  ,  1.4848295 ,  0.3705574 ,  5.165942  ],\n",
       "       [ 1.3368701 ,  0.8967284 ,  2.2157922 ,  0.5724417 ,  2.1989183 ],\n",
       "       [ 1.0170411 ,  0.87949264,  1.5470636 ,  0.41960964,  2.9833574 ],\n",
       "       [ 1.2310232 , -0.35155022,  1.1694031 ,  0.6131159 ,  2.18219   ],\n",
       "       [ 0.9342884 , -0.04796373,  1.166049  ,  0.18839131,  2.207528  ],\n",
       "       [ 1.1141833 ,  0.5350045 ,  1.7439679 ,  0.23789464,  1.56083   ],\n",
       "       [ 1.5922402 ,  0.7549733 ,  1.5895375 ,  0.3392206 ,  2.6055555 ],\n",
       "       [ 1.2996725 ,  0.79948413,  1.9549756 ,  0.5299765 ,  3.0472307 ],\n",
       "       [ 1.6869687 ,  1.1221422 ,  1.60674   ,  0.4160076 ,  3.7648535 ],\n",
       "       [ 0.85216844,  0.93530405,  1.919132  ,  0.47811183,  3.1529217 ],\n",
       "       [ 0.8842281 ,  0.1334485 ,  1.6874927 ,  0.44136295,  2.7929506 ],\n",
       "       [ 1.6577579 ,  1.48848   ,  1.665696  ,  0.38363132,  3.1647615 ],\n",
       "       [ 1.490954  ,  1.4049877 ,  1.015889  ,  0.28511772,  3.092949  ],\n",
       "       [ 0.88613546,  0.37668025,  2.0298538 ,  0.6208025 ,  1.2973679 ],\n",
       "       [ 1.216432  , -0.17898284,  1.3229259 ,  0.52085936,  2.9181318 ],\n",
       "       [ 1.4857849 ,  1.5299724 ,  1.9633479 ,  0.52194464,  2.7221193 ],\n",
       "       [ 1.6606859 ,  0.8246993 ,  2.013142  ,  0.63155234,  3.3986273 ],\n",
       "       [ 1.2996725 ,  0.79948413,  1.9549756 ,  0.5299765 ,  3.0472307 ],\n",
       "       [ 0.6534642 ,  0.54407394,  1.7122146 ,  0.58814967,  0.535407  ],\n",
       "       [ 1.0377973 ,  0.75896776,  1.6054717 ,  0.7352644 ,  2.452649  ],\n",
       "       [ 0.8503889 ,  0.3451537 ,  1.4035039 ,  0.33178577,  1.1583565 ],\n",
       "       [ 1.0010542 ,  0.36092794,  1.5820295 ,  0.8550898 ,  2.539075  ],\n",
       "       [ 1.3580354 ,  0.4357103 ,  2.063035  ,  0.36739406,  1.4573392 ],\n",
       "       [ 1.1470369 , -0.3236357 ,  1.442405  ,  0.61256564,  1.4058446 ],\n",
       "       [ 1.5684003 , -0.0856744 ,  1.0635602 ,  0.7194449 ,  2.573182  ],\n",
       "       [ 1.0316051 ,  0.5338706 ,  1.8646781 ,  0.22646676,  2.4992056 ],\n",
       "       [ 1.0499865 ,  1.0160869 ,  1.3658417 ,  0.63147223,  2.7773275 ],\n",
       "       [ 1.2040633 ,  1.0115904 ,  1.6037617 ,  0.45529804,  2.6938066 ],\n",
       "       [ 1.2757314 ,  0.762463  ,  1.6308846 ,  0.33477172,  3.4061642 ],\n",
       "       [ 0.949458  ,  1.4664916 ,  1.7335976 ,  0.6591946 ,  2.8763952 ],\n",
       "       [ 1.8137506 ,  0.65538013,  2.0622144 ,  0.49319038,  2.472146  ],\n",
       "       [ 1.4098543 , -0.16284381,  1.3807148 ,  0.48388728,  2.6985388 ],\n",
       "       [ 1.6606859 ,  0.8246993 ,  2.013142  ,  0.63155234,  3.3986273 ],\n",
       "       [ 1.3310946 ,  0.80803955,  1.5984379 ,  0.2432562 ,  1.5479821 ],\n",
       "       [ 1.4035312 ,  0.5160178 ,  1.7584321 ,  0.3707777 ,  1.7279519 ],\n",
       "       [ 1.6577579 ,  1.48848   ,  1.665696  ,  0.38363132,  3.1647615 ],\n",
       "       [ 1.0185779 ,  0.7607378 ,  1.8858646 ,  0.3203474 ,  1.2097138 ],\n",
       "       [ 0.9342884 , -0.04796373,  1.166049  ,  0.18839131,  2.207528  ],\n",
       "       [ 1.4908131 ,  1.0093306 ,  1.8416326 ,  0.57300913,  3.1036654 ],\n",
       "       [ 1.1470369 , -0.3236357 ,  1.442405  ,  0.61256564,  1.4058446 ],\n",
       "       [ 1.418013  ,  0.45256126,  1.3295426 ,  0.7643038 ,  1.3507394 ],\n",
       "       [ 0.6353468 ,  0.89533603,  1.4903995 ,  0.55164206,  3.3454504 ],\n",
       "       [ 1.2310232 , -0.35155022,  1.1694031 ,  0.6131159 ,  2.18219   ],\n",
       "       [ 1.220611  ,  1.1023144 ,  1.6565651 ,  0.53787196,  2.5770388 ],\n",
       "       [ 1.4549912 ,  1.3242439 ,  1.6166149 ,  0.8412806 ,  2.4679022 ],\n",
       "       [ 1.3837415 ,  1.0864061 ,  1.7953118 ,  0.3260704 ,  2.1728172 ],\n",
       "       [ 1.5733584 ,  0.7606448 ,  1.8143632 ,  0.543676  ,  1.4365567 ],\n",
       "       [ 1.0129713 ,  0.5584053 ,  1.8353153 ,  0.524758  ,  0.5168504 ],\n",
       "       [ 0.6353468 ,  0.89533603,  1.4903995 ,  0.55164206,  3.3454504 ],\n",
       "       [ 1.5737361 ,  0.30080402,  1.7015615 ,  0.36545905,  0.8687162 ],\n",
       "       [ 1.2258078 ,  1.2210335 ,  1.6893252 ,  0.15835343,  3.6985054 ],\n",
       "       [ 1.6324729 ,  0.9849261 ,  1.1640179 ,  0.45817813,  2.7143202 ],\n",
       "       [ 1.8986763 ,  0.74441946,  1.4913987 ,  0.6403643 ,  2.995637  ],\n",
       "       [ 1.5684003 , -0.0856744 ,  1.0635602 ,  0.7194449 ,  2.573182  ],\n",
       "       [ 1.5684003 , -0.0856744 ,  1.0635602 ,  0.7194449 ,  2.573182  ],\n",
       "       [ 0.86968935,  0.9796356 ,  1.9408703 ,  0.5455967 ,  1.2450589 ],\n",
       "       [ 1.8114542 ,  0.67919815,  2.0733616 ,  0.27109966,  1.2351159 ],\n",
       "       [ 1.6324729 ,  0.9849261 ,  1.1640179 ,  0.45817813,  2.7143202 ],\n",
       "       [ 1.0199164 ,  0.22816981,  1.7232305 ,  0.85148203,  1.4864167 ],\n",
       "       [ 1.2863334 ,  1.3584474 ,  1.964779  ,  0.45690593,  1.8264359 ],\n",
       "       [ 1.0129713 ,  0.5584053 ,  1.8353153 ,  0.524758  ,  0.5168504 ],\n",
       "       [ 1.5684003 , -0.0856744 ,  1.0635602 ,  0.7194449 ,  2.573182  ],\n",
       "       [ 1.0129713 ,  0.5584053 ,  1.8353153 ,  0.524758  ,  0.5168504 ],\n",
       "       [ 1.2416786 ,  0.25350845,  1.6171212 ,  0.74012244,  2.7672987 ],\n",
       "       [ 0.6353468 ,  0.89533603,  1.4903995 ,  0.55164206,  3.3454504 ],\n",
       "       [ 1.5844625 ,  0.65809476,  1.6607277 ,  0.32599983,  3.1793976 ],\n",
       "       [ 1.1629189 ,  1.0447062 ,  1.7045592 ,  0.38102207,  2.2210512 ],\n",
       "       [ 1.7312745 ,  0.73786056,  1.5759416 ,  0.5119206 ,  2.5879297 ],\n",
       "       [ 0.7362546 ,  0.6975459 ,  1.601837  ,  0.7412001 ,  2.391759  ],\n",
       "       [ 1.307906  ,  0.8462876 ,  1.626595  ,  0.6298834 ,  1.801462  ],\n",
       "       [ 1.1473316 ,  0.8963846 ,  1.8134884 ,  0.47329482,  2.6380987 ],\n",
       "       [ 0.697935  ,  1.0444497 ,  1.5023841 ,  0.51901305,  2.484561  ],\n",
       "       [ 1.2310232 , -0.35155022,  1.1694031 ,  0.6131159 ,  2.18219   ],\n",
       "       [ 0.866197  ,  1.1361197 ,  1.711604  ,  0.46906433,  2.4123726 ],\n",
       "       [ 1.4492816 ,  0.993821  ,  1.752036  ,  0.44991264,  2.9962826 ],\n",
       "       [ 0.71774757,  0.87392986,  2.0027366 ,  0.28954372,  2.5674677 ],\n",
       "       [ 1.0495943 ,  0.5711707 ,  1.9073718 ,  0.20131455,  0.33663836],\n",
       "       [ 1.2612938 ,  0.62913644,  1.7246279 ,  0.56834376,  0.57663816],\n",
       "       [ 1.4908131 ,  1.0093306 ,  1.8416326 ,  0.57300913,  3.1036654 ],\n",
       "       [ 1.5878483 ,  1.1620005 ,  1.7171382 ,  0.28648528,  2.6513853 ],\n",
       "       [ 0.5037507 ,  0.70810974,  2.0560732 ,  0.47735748,  2.5479918 ],\n",
       "       [ 1.4870919 ,  0.65567815,  1.5117272 ,  0.2609478 ,  3.8275251 ],\n",
       "       [ 1.4098543 , -0.16284381,  1.3807148 ,  0.48388728,  2.6985388 ],\n",
       "       [ 1.1576685 ,  1.0554699 ,  2.180095  ,  0.46896324,  2.760087  ],\n",
       "       [ 0.7992052 ,  0.3101548 ,  1.5424496 ,  0.72397006,  1.7278279 ],\n",
       "       [ 0.55901945,  1.0638131 ,  1.6298369 ,  0.6640898 ,  2.8671808 ],\n",
       "       [ 1.6869687 ,  1.1221422 ,  1.60674   ,  0.4160076 ,  3.7648535 ],\n",
       "       [ 0.9182483 ,  0.2381977 ,  1.5472573 ,  0.35859165,  4.1246643 ],\n",
       "       [ 1.0316051 ,  0.5338706 ,  1.8646781 ,  0.22646676,  2.4992056 ],\n",
       "       [ 1.0170411 ,  0.87949264,  1.5470636 ,  0.41960964,  2.9833574 ],\n",
       "       [ 1.4908131 ,  1.0093306 ,  1.8416326 ,  0.57300913,  3.1036654 ],\n",
       "       [ 1.5922402 ,  0.7549733 ,  1.5895375 ,  0.3392206 ,  2.6055555 ],\n",
       "       [ 1.7157315 ,  1.5425557 ,  1.6469204 ,  0.4616743 ,  4.157073  ],\n",
       "       [ 1.0495943 ,  0.5711707 ,  1.9073718 ,  0.20131455,  0.33663836],\n",
       "       [ 1.4492816 ,  0.993821  ,  1.752036  ,  0.44991264,  2.9962826 ],\n",
       "       [ 1.1616024 ,  0.04830302,  1.3709227 ,  0.45559558,  3.7787094 ],\n",
       "       [ 1.3580354 ,  0.4357103 ,  2.063035  ,  0.36739406,  1.4573392 ],\n",
       "       [ 1.0170411 ,  0.87949264,  1.5470636 ,  0.41960964,  2.9833574 ],\n",
       "       [ 1.1470369 , -0.3236357 ,  1.442405  ,  0.61256564,  1.4058446 ],\n",
       "       [ 1.8137506 ,  0.65538013,  2.0622144 ,  0.49319038,  2.472146  ],\n",
       "       [ 1.6584629 ,  0.7954644 ,  1.936598  ,  0.53304064,  4.019517  ],\n",
       "       [ 1.1629189 ,  1.0447062 ,  1.7045592 ,  0.38102207,  2.2210512 ],\n",
       "       [ 1.4098543 , -0.16284381,  1.3807148 ,  0.48388728,  2.6985388 ],\n",
       "       [ 0.9342884 , -0.04796373,  1.166049  ,  0.18839131,  2.207528  ],\n",
       "       [ 0.55901945,  1.0638131 ,  1.6298369 ,  0.6640898 ,  2.8671808 ],\n",
       "       [ 1.6606859 ,  0.8246993 ,  2.013142  ,  0.63155234,  3.3986273 ],\n",
       "       [ 1.1473316 ,  0.8963846 ,  1.8134884 ,  0.47329482,  2.6380987 ],\n",
       "       [ 1.5733584 ,  0.7606448 ,  1.8143632 ,  0.543676  ,  1.4365567 ],\n",
       "       [ 1.2627481 ,  0.83291423,  1.5601896 ,  0.34513244,  3.021862  ],\n",
       "       [ 1.0499865 ,  1.0160869 ,  1.3658417 ,  0.63147223,  2.7773275 ],\n",
       "       [ 0.9238781 ,  0.55992734,  2.083136  ,  0.48804244,  1.4973992 ],\n",
       "       [ 1.4098543 , -0.16284381,  1.3807148 ,  0.48388728,  2.6985388 ],\n",
       "       [ 1.5844625 ,  0.65809476,  1.6607277 ,  0.32599983,  3.1793976 ],\n",
       "       [ 1.0170411 ,  0.87949264,  1.5470636 ,  0.41960964,  2.9833574 ],\n",
       "       [ 1.0126384 ,  0.5296496 ,  1.84766   ,  0.5023562 ,  0.62039655],\n",
       "       [ 1.0460984 ,  0.5105065 ,  1.7874944 ,  0.25934276,  2.1934958 ],\n",
       "       [ 1.2310232 , -0.35155022,  1.1694031 ,  0.6131159 ,  2.18219   ],\n",
       "       [ 1.2655481 ,  0.53905475,  1.5999352 ,  0.24976121,  1.8346223 ],\n",
       "       [ 1.0129713 ,  0.5584053 ,  1.8353153 ,  0.524758  ,  0.5168504 ],\n",
       "       [ 1.4889973 ,  0.9509491 ,  1.4928254 ,  0.22384034,  1.4207753 ],\n",
       "       [ 1.1995076 , -0.27323496,  1.1521204 ,  0.4266592 ,  3.0831366 ],\n",
       "       [ 1.0650738 ,  1.0616893 ,  1.9270977 ,  0.23738252,  2.183648  ],\n",
       "       [ 1.5684003 , -0.0856744 ,  1.0635602 ,  0.7194449 ,  2.573182  ],\n",
       "       [ 1.8137506 ,  0.65538013,  2.0622144 ,  0.49319038,  2.472146  ],\n",
       "       [ 1.2996725 ,  0.79948413,  1.9549756 ,  0.5299765 ,  3.0472307 ],\n",
       "       [ 1.7157315 ,  1.5425557 ,  1.6469204 ,  0.4616743 ,  4.157073  ],\n",
       "       [ 1.1995076 , -0.27323496,  1.1521204 ,  0.4266592 ,  3.0831366 ],\n",
       "       [ 1.4908131 ,  1.0093306 ,  1.8416326 ,  0.57300913,  3.1036654 ],\n",
       "       [ 1.2416786 ,  0.25350845,  1.6171212 ,  0.74012244,  2.7672987 ],\n",
       "       [ 1.0256985 ,  0.48525178,  1.6046065 ,  0.8762051 ,  2.3352041 ],\n",
       "       [ 0.9182483 ,  0.2381977 ,  1.5472573 ,  0.35859165,  4.1246643 ],\n",
       "       [ 1.3580354 ,  0.4357103 ,  2.063035  ,  0.36739406,  1.4573392 ],\n",
       "       [ 1.6584629 ,  0.7954644 ,  1.936598  ,  0.53304064,  4.019517  ],\n",
       "       [ 1.4870919 ,  0.65567815,  1.5117272 ,  0.2609478 ,  3.8275251 ],\n",
       "       [ 0.9680959 ,  0.8827065 ,  1.6623315 ,  0.3935934 ,  2.668191  ],\n",
       "       [ 1.0199164 ,  0.22816981,  1.7232305 ,  0.85148203,  1.4864167 ],\n",
       "       [ 1.3254737 ,  0.7219714 ,  1.6286063 ,  0.7469822 ,  1.713601  ],\n",
       "       [ 0.83507144,  0.23538722,  1.8666356 ,  0.43988094,  0.56667227],\n",
       "       [ 1.8137506 ,  0.65538013,  2.0622144 ,  0.49319038,  2.472146  ],\n",
       "       [ 1.528962  ,  0.94123065,  1.401733  ,  0.6236664 ,  2.8798084 ],\n",
       "       [ 0.71774757,  0.87392986,  2.0027366 ,  0.28954372,  2.5674677 ],\n",
       "       [ 1.4973849 ,  0.8348783 ,  1.9045821 ,  0.7350241 ,  1.3179291 ],\n",
       "       [ 0.86968935,  0.9796356 ,  1.9408703 ,  0.5455967 ,  1.2450589 ],\n",
       "       [ 1.5733584 ,  0.7606448 ,  1.8143632 ,  0.543676  ,  1.4365567 ],\n",
       "       [ 1.0653089 ,  1.5719808 ,  1.8919227 ,  0.49880084,  1.6015443 ],\n",
       "       [ 1.1470369 , -0.3236357 ,  1.442405  ,  0.61256564,  1.4058446 ],\n",
       "       [ 1.4326075 ,  0.8434757 ,  1.9066771 ,  0.5088173 ,  3.2520494 ],\n",
       "       [ 1.0010542 ,  0.36092794,  1.5820295 ,  0.8550898 ,  2.539075  ],\n",
       "       [ 1.0199164 ,  0.22816981,  1.7232305 ,  0.85148203,  1.4864167 ],\n",
       "       [ 0.5733255 ,  0.37823617,  2.1472645 ,  0.5900198 ,  1.0915517 ],\n",
       "       [ 1.0840124 ,  1.2494396 ,  1.8468125 ,  0.29242668,  3.5372295 ],\n",
       "       [ 1.0896424 ,  0.29059446,  1.4849895 ,  0.30139884,  1.2050618 ],\n",
       "       [ 1.5922402 ,  0.7549733 ,  1.5895375 ,  0.3392206 ,  2.6055555 ],\n",
       "       [ 1.2258078 ,  1.2210335 ,  1.6893252 ,  0.15835343,  3.6985054 ],\n",
       "       [ 0.5733255 ,  0.37823617,  2.1472645 ,  0.5900198 ,  1.0915517 ],\n",
       "       [ 1.1995076 , -0.27323496,  1.1521204 ,  0.4266592 ,  3.0831366 ],\n",
       "       [ 1.4098543 , -0.16284381,  1.3807148 ,  0.48388728,  2.6985388 ],\n",
       "       [ 1.2627481 ,  0.83291423,  1.5601896 ,  0.34513244,  3.021862  ],\n",
       "       [ 1.2816571 ,  1.0504249 ,  1.8660367 ,  0.59899294,  1.8538998 ],\n",
       "       [ 1.2258078 ,  1.2210335 ,  1.6893252 ,  0.15835343,  3.6985054 ],\n",
       "       [ 1.0653089 ,  1.5719808 ,  1.8919227 ,  0.49880084,  1.6015443 ],\n",
       "       [ 0.7673534 ,  0.55651367,  1.7610296 ,  0.41514263,  1.1811293 ],\n",
       "       [ 1.0170411 ,  0.87949264,  1.5470636 ,  0.41960964,  2.9833574 ],\n",
       "       [ 0.9238781 ,  0.55992734,  2.083136  ,  0.48804244,  1.4973992 ],\n",
       "       [ 1.0086097 , -0.10533773,  1.8921144 ,  0.43121108,  2.3103533 ],\n",
       "       [ 1.3257788 ,  1.001705  ,  1.6358358 ,  0.39856586,  2.74339   ],\n",
       "       [ 0.86777246,  0.28057706,  2.4470751 ,  0.5882622 ,  0.6169118 ],\n",
       "       [ 1.4870919 ,  0.65567815,  1.5117272 ,  0.2609478 ,  3.8275251 ],\n",
       "       [ 1.7312745 ,  0.73786056,  1.5759416 ,  0.5119206 ,  2.5879297 ],\n",
       "       [ 1.6869687 ,  1.1221422 ,  1.60674   ,  0.4160076 ,  3.7648535 ],\n",
       "       [ 1.4908131 ,  1.0093306 ,  1.8416326 ,  0.57300913,  3.1036654 ],\n",
       "       [ 1.1827434 ,  1.0312904 ,  1.889692  ,  0.28042278,  2.5927458 ],\n",
       "       [ 1.2164334 , -0.17898236,  1.3229259 ,  0.5208584 ,  2.91813   ],\n",
       "       [ 1.231026  , -0.35154974,  1.1694065 ,  0.61311686,  2.1821852 ],\n",
       "       [ 0.90861833,  0.4669417 ,  1.9750329 ,  0.4927412 ,  2.3484697 ],\n",
       "       [ 0.7627572 ,  1.2388061 ,  1.4043123 ,  0.6936127 ,  3.9315863 ],\n",
       "       [ 1.231026  , -0.35154974,  1.1694065 ,  0.61311686,  2.1821852 ],\n",
       "       [ 1.2206119 ,  1.1023191 ,  1.6565651 ,  0.53787196,  2.5770407 ],\n",
       "       [ 0.88729084,  0.52519834,  1.8891977 ,  0.32553634,  1.0923089 ]],\n",
       "      dtype=float32)"
      ]
     },
     "execution_count": 34,
     "metadata": {},
     "output_type": "execute_result"
    }
   ],
   "source": [
    "prediction"
   ]
  },
  {
   "cell_type": "code",
   "execution_count": 36,
   "metadata": {},
   "outputs": [],
   "source": [
    "y_true=test_labels[:,4].flatten()"
   ]
  },
  {
   "cell_type": "code",
   "execution_count": 37,
   "metadata": {},
   "outputs": [],
   "source": [
    "y_pred=prediction[:,4].flatten()"
   ]
  },
  {
   "cell_type": "code",
   "execution_count": 38,
   "metadata": {},
   "outputs": [
    {
     "data": {
      "text/plain": [
       "array([5., 5., 1., 1., 5., 1., 5., 1., 5., 1., 5., 3., 5., 5., 1., 1., 5.,\n",
       "       1., 5., 1., 5., 1., 1., 1., 1., 5., 1., 1., 1., 1., 1., 1., 5., 5.,\n",
       "       1., 1., 3., 5., 1., 1., 1., 3., 1., 5., 5., 1., 1., 5., 1., 5., 5.,\n",
       "       2., 5., 1., 1., 1., 5., 1., 1., 1., 5., 1., 1., 5., 5., 1., 3., 1.,\n",
       "       1., 5., 3., 5., 1., 1., 3., 5., 1., 1., 1., 5., 1., 1., 5., 1., 1.,\n",
       "       5., 1., 1., 1., 1., 1., 5., 5., 1., 5., 5., 1., 3., 3., 5., 1., 1.,\n",
       "       1., 4., 5., 1., 1., 5., 1., 2., 1., 1., 1., 1., 1., 1., 5., 5., 5.,\n",
       "       5., 5., 1., 1., 1., 1., 5., 5., 5., 1., 5., 5., 1., 1., 1., 1., 1.,\n",
       "       1., 5., 2., 1., 2., 5., 5., 5., 5., 5., 1., 1., 1., 5., 1., 5., 5.,\n",
       "       5., 5., 1., 5., 1., 1., 1., 1., 1., 3., 1., 1., 1., 5., 1., 5., 1.,\n",
       "       1., 5., 5., 5., 1., 1., 1., 5., 5., 3., 5., 1., 5., 1., 2., 5., 1.,\n",
       "       1., 1., 5., 1., 5., 3., 1., 1., 1., 3., 5., 5., 1.])"
      ]
     },
     "execution_count": 38,
     "metadata": {},
     "output_type": "execute_result"
    }
   ],
   "source": [
    "y_true"
   ]
  },
  {
   "cell_type": "code",
   "execution_count": 39,
   "metadata": {},
   "outputs": [
    {
     "data": {
      "text/plain": [
       "array([2.484561  , 2.995637  , 2.995637  , 2.1728172 , 2.3484755 ,\n",
       "       1.8264359 , 4.0039454 , 2.484561  , 1.4973992 , 2.3103533 ,\n",
       "       4.157073  , 1.0923089 , 2.760087  , 1.4573392 , 3.8275251 ,\n",
       "       3.0472307 , 2.573182  , 2.472146  , 2.2881594 , 2.7672987 ,\n",
       "       3.3454504 , 5.165942  , 2.1989183 , 2.9833574 , 2.18219   ,\n",
       "       2.207528  , 1.56083   , 2.6055555 , 3.0472307 , 3.7648535 ,\n",
       "       3.1529217 , 2.7929506 , 3.1647615 , 3.092949  , 1.2973679 ,\n",
       "       2.9181318 , 2.7221193 , 3.3986273 , 3.0472307 , 0.535407  ,\n",
       "       2.452649  , 1.1583565 , 2.539075  , 1.4573392 , 1.4058446 ,\n",
       "       2.573182  , 2.4992056 , 2.7773275 , 2.6938066 , 3.4061642 ,\n",
       "       2.8763952 , 2.472146  , 2.6985388 , 3.3986273 , 1.5479821 ,\n",
       "       1.7279519 , 3.1647615 , 1.2097138 , 2.207528  , 3.1036654 ,\n",
       "       1.4058446 , 1.3507394 , 3.3454504 , 2.18219   , 2.5770388 ,\n",
       "       2.4679022 , 2.1728172 , 1.4365567 , 0.5168504 , 3.3454504 ,\n",
       "       0.8687162 , 3.6985054 , 2.7143202 , 2.995637  , 2.573182  ,\n",
       "       2.573182  , 1.2450589 , 1.2351159 , 2.7143202 , 1.4864167 ,\n",
       "       1.8264359 , 0.5168504 , 2.573182  , 0.5168504 , 2.7672987 ,\n",
       "       3.3454504 , 3.1793976 , 2.2210512 , 2.5879297 , 2.391759  ,\n",
       "       1.801462  , 2.6380987 , 2.484561  , 2.18219   , 2.4123726 ,\n",
       "       2.9962826 , 2.5674677 , 0.33663836, 0.57663816, 3.1036654 ,\n",
       "       2.6513853 , 2.5479918 , 3.8275251 , 2.6985388 , 2.760087  ,\n",
       "       1.7278279 , 2.8671808 , 3.7648535 , 4.1246643 , 2.4992056 ,\n",
       "       2.9833574 , 3.1036654 , 2.6055555 , 4.157073  , 0.33663836,\n",
       "       2.9962826 , 3.7787094 , 1.4573392 , 2.9833574 , 1.4058446 ,\n",
       "       2.472146  , 4.019517  , 2.2210512 , 2.6985388 , 2.207528  ,\n",
       "       2.8671808 , 3.3986273 , 2.6380987 , 1.4365567 , 3.021862  ,\n",
       "       2.7773275 , 1.4973992 , 2.6985388 , 3.1793976 , 2.9833574 ,\n",
       "       0.62039655, 2.1934958 , 2.18219   , 1.8346223 , 0.5168504 ,\n",
       "       1.4207753 , 3.0831366 , 2.183648  , 2.573182  , 2.472146  ,\n",
       "       3.0472307 , 4.157073  , 3.0831366 , 3.1036654 , 2.7672987 ,\n",
       "       2.3352041 , 4.1246643 , 1.4573392 , 4.019517  , 3.8275251 ,\n",
       "       2.668191  , 1.4864167 , 1.713601  , 0.56667227, 2.472146  ,\n",
       "       2.8798084 , 2.5674677 , 1.3179291 , 1.2450589 , 1.4365567 ,\n",
       "       1.6015443 , 1.4058446 , 3.2520494 , 2.539075  , 1.4864167 ,\n",
       "       1.0915517 , 3.5372295 , 1.2050618 , 2.6055555 , 3.6985054 ,\n",
       "       1.0915517 , 3.0831366 , 2.6985388 , 3.021862  , 1.8538998 ,\n",
       "       3.6985054 , 1.6015443 , 1.1811293 , 2.9833574 , 1.4973992 ,\n",
       "       2.3103533 , 2.74339   , 0.6169118 , 3.8275251 , 2.5879297 ,\n",
       "       3.7648535 , 3.1036654 , 2.5927458 , 2.91813   , 2.1821852 ,\n",
       "       2.3484697 , 3.9315863 , 2.1821852 , 2.5770407 , 1.0923089 ],\n",
       "      dtype=float32)"
      ]
     },
     "execution_count": 39,
     "metadata": {},
     "output_type": "execute_result"
    }
   ],
   "source": [
    "y_pred"
   ]
  },
  {
   "cell_type": "code",
   "execution_count": 40,
   "metadata": {},
   "outputs": [
    {
     "data": {
      "text/plain": [
       "200"
      ]
     },
     "execution_count": 40,
     "metadata": {},
     "output_type": "execute_result"
    }
   ],
   "source": [
    "len(y_true)"
   ]
  },
  {
   "cell_type": "code",
   "execution_count": 41,
   "metadata": {},
   "outputs": [
    {
     "data": {
      "text/plain": [
       "200"
      ]
     },
     "execution_count": 41,
     "metadata": {},
     "output_type": "execute_result"
    }
   ],
   "source": [
    "len(y_pred)"
   ]
  },
  {
   "cell_type": "code",
   "execution_count": 44,
   "metadata": {},
   "outputs": [],
   "source": [
    "y_pred=np.ceil(y_pred)"
   ]
  },
  {
   "cell_type": "code",
   "execution_count": 45,
   "metadata": {},
   "outputs": [
    {
     "name": "stderr",
     "output_type": "stream",
     "text": [
      "/Applications/selfdrivingcar/myenv/lib/python3.12/site-packages/sklearn/metrics/_classification.py:1531: UndefinedMetricWarning: Recall is ill-defined and being set to 0.0 in labels with no true samples. Use `zero_division` parameter to control this behavior.\n",
      "  _warn_prf(average, modifier, f\"{metric.capitalize()} is\", len(result))\n"
     ]
    }
   ],
   "source": [
    "precision,recall,f1,support=precision_recall_fscore_support(y_true,y_pred,average='weighted')"
   ]
  },
  {
   "cell_type": "code",
   "execution_count": 46,
   "metadata": {},
   "outputs": [
    {
     "data": {
      "text/plain": [
       "0.5942851906158357"
      ]
     },
     "execution_count": 46,
     "metadata": {},
     "output_type": "execute_result"
    }
   ],
   "source": [
    "precision"
   ]
  },
  {
   "cell_type": "code",
   "execution_count": 47,
   "metadata": {},
   "outputs": [
    {
     "data": {
      "text/plain": [
       "0.1"
      ]
     },
     "execution_count": 47,
     "metadata": {},
     "output_type": "execute_result"
    }
   ],
   "source": [
    "recall"
   ]
  },
  {
   "cell_type": "code",
   "execution_count": 48,
   "metadata": {},
   "outputs": [
    {
     "data": {
      "text/plain": [
       "0.12473021403683424"
      ]
     },
     "execution_count": 48,
     "metadata": {},
     "output_type": "execute_result"
    }
   ],
   "source": [
    "f1"
   ]
  },
  {
   "cell_type": "code",
   "execution_count": 52,
   "metadata": {},
   "outputs": [
    {
     "name": "stdout",
     "output_type": "stream",
     "text": [
      "\u001b[1m7/7\u001b[0m \u001b[32m━━━━━━━━━━━━━━━━━━━━\u001b[0m\u001b[37m\u001b[0m \u001b[1m46s\u001b[0m 6s/step\n"
     ]
    },
    {
     "data": {
      "image/png": "[encoded data removed]",
      "text/plain": [
       "<Figure size 1500x1500 with 5 Axes>"
      ]
     },
     "metadata": {},
     "output_type": "display_data"
    }
   ],
   "source": [
    "import matplotlib.pyplot as plt\n",
    "import matplotlib.patches as patches\n",
    "from PIL import Image\n",
    "import tensorflow as tf\n",
    "\n",
    "def visualize_predictions(images, predictions, true_labels, num_images=5):\n",
    "    plt.figure(figsize=(15, 15))\n",
    "    \n",
    "    for i in range(num_images):\n",
    "        # Get the image and the corresponding predictions\n",
    "        img = images[i].astype(\"uint8\")\n",
    "        pred_bbox = predictions[i][:4] * 224  # scale up to the original image size\n",
    "        pred_class_id = predictions[i][4]\n",
    "        \n",
    "        true_bbox = true_labels[i][:4] * 224\n",
    "        true_class_id = true_labels[i][4]\n",
    "        \n",
    "        # Display the image\n",
    "        plt.subplot(1, num_images, i + 1)\n",
    "        plt.imshow(img)\n",
    "        \n",
    "        # Create bounding box for prediction\n",
    "        pred_rect = patches.Rectangle(\n",
    "            (pred_bbox[0], pred_bbox[2]),  # (xmin, ymin)\n",
    "            pred_bbox[1] - pred_bbox[0],  # width\n",
    "            pred_bbox[3] - pred_bbox[2],  # height\n",
    "            linewidth=2,\n",
    "            edgecolor='r',\n",
    "            facecolor='none',\n",
    "            label=f'Predicted: {pred_class_id}',\n",
    "        )\n",
    "        \n",
    "        # Create bounding box for true label\n",
    "        true_rect = patches.Rectangle(\n",
    "            (true_bbox[0], true_bbox[2]),  # (xmin, ymin)\n",
    "            true_bbox[1] - true_bbox[0],  # width\n",
    "            true_bbox[3] - true_bbox[2],  # height\n",
    "            linewidth=2,\n",
    "            edgecolor='g',\n",
    "            facecolor='none',\n",
    "            label=f'True: {true_class_id}',\n",
    "        )\n",
    "        \n",
    "        # Add the rectangles to the plot\n",
    "        ax = plt.gca()\n",
    "        ax.add_patch(pred_rect)\n",
    "        ax.add_patch(true_rect)\n",
    "        \n",
    "        # Add the class label\n",
    "        plt.text(pred_bbox[0], pred_bbox[2] - 10, f'Pred: {int(pred_class_id)}', color='red', fontsize=12)\n",
    "        plt.text(true_bbox[0], true_bbox[2] - 25, f'True: {int(true_class_id)}', color='green', fontsize=12)\n",
    "        \n",
    "        plt.axis('off')\n",
    "    \n",
    "    plt.tight_layout()\n",
    "    plt.show()\n",
    "\n",
    "# Predict the bounding boxes and class labels for the test images\n",
    "predictions = model.predict(test_images)\n",
    "\n",
    "# Visualize the predictions\n",
    "visualize_predictions(test_images, predictions, test_labels)"
   ]
  },
  {
   "cell_type": "code",
   "execution_count": null,
   "metadata": {},
   "outputs": [],
   "source": []
  }
 ],
 "metadata": {
  "kernelspec": {
   "display_name": "myenv",
   "language": "python",
   "name": "python3"
  },
  "language_info": {
   "codemirror_mode": {
    "name": "ipython",
    "version": 3
   },
   "file_extension": ".py",
   "mimetype": "text/x-python",
   "name": "python",
   "nbconvert_exporter": "python",
   "pygments_lexer": "ipython3",
   "version": "3.12.2"
  }
 },
 "nbformat": 4,
 "nbformat_minor": 2
}
