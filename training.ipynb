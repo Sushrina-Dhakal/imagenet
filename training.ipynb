{
 "cells": [
  {
   "cell_type": "code",
   "execution_count": 1,
   "metadata": {},
   "outputs": [],
   "source": [
    "#Importing libraries\n",
    "import pandas as pd\n",
    "import numpy as np\n",
    "\n",
    "from sklearn.model_selection import train_test_split\n",
    "from tensorflow.keras.preprocessing.image import ImageDataGenerator,load_img,img_to_array\n",
    "\n",
    "import tensorflow as tf\n",
    "from tensorflow.keras.applications import ResNet50\n",
    "from tensorflow.keras.layers import Dense, Flatten \n",
    "from tensorflow.keras.models import Model\n",
    "\n",
    "from sklearn.metrics import precision_recall_fscore_support, classification_report"
   ]
  },
  {
   "cell_type": "code",
   "execution_count": 2,
   "metadata": {},
   "outputs": [],
   "source": [
    "#loading the dataset\n",
    "#taking only 1000 images for faster training\n",
    "train_labels= pd.read_csv(\"cars/labels_train.csv\")\n",
    "train_labels=train_labels[:1000]\n",
    "val_labels=pd.read_csv(\"cars/labels_trainval.csv\")\n",
    "val_labels=val_labels[:1000]\n"
   ]
  },
  {
   "cell_type": "code",
   "execution_count": 3,
   "metadata": {},
   "outputs": [
    {
     "data": {
      "text/html": [
       "<div>\n",
       "<style scoped>\n",
       "    .dataframe tbody tr th:only-of-type {\n",
       "        vertical-align: middle;\n",
       "    }\n",
       "\n",
       "    .dataframe tbody tr th {\n",
       "        vertical-align: top;\n",
       "    }\n",
       "\n",
       "    .dataframe thead th {\n",
       "        text-align: right;\n",
       "    }\n",
       "</style>\n",
       "<table border=\"1\" class=\"dataframe\">\n",
       "  <thead>\n",
       "    <tr style=\"text-align: right;\">\n",
       "      <th></th>\n",
       "      <th>frame</th>\n",
       "      <th>xmin</th>\n",
       "      <th>xmax</th>\n",
       "      <th>ymin</th>\n",
       "      <th>ymax</th>\n",
       "      <th>class_id</th>\n",
       "    </tr>\n",
       "  </thead>\n",
       "  <tbody>\n",
       "    <tr>\n",
       "      <th>0</th>\n",
       "      <td>1478019952686311006.jpg</td>\n",
       "      <td>237</td>\n",
       "      <td>251</td>\n",
       "      <td>143</td>\n",
       "      <td>155</td>\n",
       "      <td>1</td>\n",
       "    </tr>\n",
       "    <tr>\n",
       "      <th>1</th>\n",
       "      <td>1478019952686311006.jpg</td>\n",
       "      <td>437</td>\n",
       "      <td>454</td>\n",
       "      <td>120</td>\n",
       "      <td>186</td>\n",
       "      <td>3</td>\n",
       "    </tr>\n",
       "    <tr>\n",
       "      <th>2</th>\n",
       "      <td>1478019953180167674.jpg</td>\n",
       "      <td>218</td>\n",
       "      <td>231</td>\n",
       "      <td>146</td>\n",
       "      <td>158</td>\n",
       "      <td>1</td>\n",
       "    </tr>\n",
       "    <tr>\n",
       "      <th>3</th>\n",
       "      <td>1478019953689774621.jpg</td>\n",
       "      <td>171</td>\n",
       "      <td>182</td>\n",
       "      <td>141</td>\n",
       "      <td>154</td>\n",
       "      <td>2</td>\n",
       "    </tr>\n",
       "    <tr>\n",
       "      <th>4</th>\n",
       "      <td>1478019953689774621.jpg</td>\n",
       "      <td>179</td>\n",
       "      <td>191</td>\n",
       "      <td>144</td>\n",
       "      <td>155</td>\n",
       "      <td>1</td>\n",
       "    </tr>\n",
       "  </tbody>\n",
       "</table>\n",
       "</div>"
      ],
      "text/plain": [
       "                     frame  xmin  xmax  ymin  ymax  class_id\n",
       "0  1478019952686311006.jpg   237   251   143   155         1\n",
       "1  1478019952686311006.jpg   437   454   120   186         3\n",
       "2  1478019953180167674.jpg   218   231   146   158         1\n",
       "3  1478019953689774621.jpg   171   182   141   154         2\n",
       "4  1478019953689774621.jpg   179   191   144   155         1"
      ]
     },
     "execution_count": 3,
     "metadata": {},
     "output_type": "execute_result"
    }
   ],
   "source": [
    "train_labels.head()"
   ]
  },
  {
   "cell_type": "code",
   "execution_count": 4,
   "metadata": {},
   "outputs": [
    {
     "data": {
      "text/html": [
       "<div>\n",
       "<style scoped>\n",
       "    .dataframe tbody tr th:only-of-type {\n",
       "        vertical-align: middle;\n",
       "    }\n",
       "\n",
       "    .dataframe tbody tr th {\n",
       "        vertical-align: top;\n",
       "    }\n",
       "\n",
       "    .dataframe thead th {\n",
       "        text-align: right;\n",
       "    }\n",
       "</style>\n",
       "<table border=\"1\" class=\"dataframe\">\n",
       "  <thead>\n",
       "    <tr style=\"text-align: right;\">\n",
       "      <th></th>\n",
       "      <th>frame</th>\n",
       "      <th>xmin</th>\n",
       "      <th>xmax</th>\n",
       "      <th>ymin</th>\n",
       "      <th>ymax</th>\n",
       "      <th>class_id</th>\n",
       "    </tr>\n",
       "  </thead>\n",
       "  <tbody>\n",
       "    <tr>\n",
       "      <th>0</th>\n",
       "      <td>1478019952686311006.jpg</td>\n",
       "      <td>237</td>\n",
       "      <td>251</td>\n",
       "      <td>143</td>\n",
       "      <td>155</td>\n",
       "      <td>1</td>\n",
       "    </tr>\n",
       "    <tr>\n",
       "      <th>1</th>\n",
       "      <td>1478019952686311006.jpg</td>\n",
       "      <td>437</td>\n",
       "      <td>454</td>\n",
       "      <td>120</td>\n",
       "      <td>186</td>\n",
       "      <td>3</td>\n",
       "    </tr>\n",
       "    <tr>\n",
       "      <th>2</th>\n",
       "      <td>1478019953180167674.jpg</td>\n",
       "      <td>218</td>\n",
       "      <td>231</td>\n",
       "      <td>146</td>\n",
       "      <td>158</td>\n",
       "      <td>1</td>\n",
       "    </tr>\n",
       "    <tr>\n",
       "      <th>3</th>\n",
       "      <td>1478019953689774621.jpg</td>\n",
       "      <td>171</td>\n",
       "      <td>182</td>\n",
       "      <td>141</td>\n",
       "      <td>154</td>\n",
       "      <td>2</td>\n",
       "    </tr>\n",
       "    <tr>\n",
       "      <th>4</th>\n",
       "      <td>1478019953689774621.jpg</td>\n",
       "      <td>179</td>\n",
       "      <td>191</td>\n",
       "      <td>144</td>\n",
       "      <td>155</td>\n",
       "      <td>1</td>\n",
       "    </tr>\n",
       "  </tbody>\n",
       "</table>\n",
       "</div>"
      ],
      "text/plain": [
       "                     frame  xmin  xmax  ymin  ymax  class_id\n",
       "0  1478019952686311006.jpg   237   251   143   155         1\n",
       "1  1478019952686311006.jpg   437   454   120   186         3\n",
       "2  1478019953180167674.jpg   218   231   146   158         1\n",
       "3  1478019953689774621.jpg   171   182   141   154         2\n",
       "4  1478019953689774621.jpg   179   191   144   155         1"
      ]
     },
     "execution_count": 4,
     "metadata": {},
     "output_type": "execute_result"
    }
   ],
   "source": [
    "val_labels.head()"
   ]
  },
  {
   "cell_type": "code",
   "execution_count": 5,
   "metadata": {},
   "outputs": [
    {
     "data": {
      "text/plain": [
       "((1000, 6), (1000, 6))"
      ]
     },
     "execution_count": 5,
     "metadata": {},
     "output_type": "execute_result"
    }
   ],
   "source": [
    "#Checking the number of rows and columns\n",
    "train_labels.shape,val_labels.shape"
   ]
  },
  {
   "cell_type": "markdown",
   "metadata": {},
   "source": [
    "Since restnet expects the input size of the image as 224x224 imagesize, we preprocess the data"
   ]
  },
  {
   "cell_type": "code",
   "execution_count": 6,
   "metadata": {},
   "outputs": [],
   "source": [
    "train_labels[['xmin','xmax']]/=224"
   ]
  },
  {
   "cell_type": "code",
   "execution_count": 7,
   "metadata": {},
   "outputs": [],
   "source": [
    "train_labels[[\"ymin\",\"ymax\"]]/=224"
   ]
  },
  {
   "cell_type": "code",
   "execution_count": 8,
   "metadata": {},
   "outputs": [
    {
     "data": {
      "text/html": [
       "<div>\n",
       "<style scoped>\n",
       "    .dataframe tbody tr th:only-of-type {\n",
       "        vertical-align: middle;\n",
       "    }\n",
       "\n",
       "    .dataframe tbody tr th {\n",
       "        vertical-align: top;\n",
       "    }\n",
       "\n",
       "    .dataframe thead th {\n",
       "        text-align: right;\n",
       "    }\n",
       "</style>\n",
       "<table border=\"1\" class=\"dataframe\">\n",
       "  <thead>\n",
       "    <tr style=\"text-align: right;\">\n",
       "      <th></th>\n",
       "      <th>frame</th>\n",
       "      <th>xmin</th>\n",
       "      <th>xmax</th>\n",
       "      <th>ymin</th>\n",
       "      <th>ymax</th>\n",
       "      <th>class_id</th>\n",
       "    </tr>\n",
       "  </thead>\n",
       "  <tbody>\n",
       "    <tr>\n",
       "      <th>0</th>\n",
       "      <td>1478019952686311006.jpg</td>\n",
       "      <td>1.058036</td>\n",
       "      <td>1.120536</td>\n",
       "      <td>0.638393</td>\n",
       "      <td>0.691964</td>\n",
       "      <td>1</td>\n",
       "    </tr>\n",
       "    <tr>\n",
       "      <th>1</th>\n",
       "      <td>1478019952686311006.jpg</td>\n",
       "      <td>1.950893</td>\n",
       "      <td>2.026786</td>\n",
       "      <td>0.535714</td>\n",
       "      <td>0.830357</td>\n",
       "      <td>3</td>\n",
       "    </tr>\n",
       "    <tr>\n",
       "      <th>2</th>\n",
       "      <td>1478019953180167674.jpg</td>\n",
       "      <td>0.973214</td>\n",
       "      <td>1.031250</td>\n",
       "      <td>0.651786</td>\n",
       "      <td>0.705357</td>\n",
       "      <td>1</td>\n",
       "    </tr>\n",
       "    <tr>\n",
       "      <th>3</th>\n",
       "      <td>1478019953689774621.jpg</td>\n",
       "      <td>0.763393</td>\n",
       "      <td>0.812500</td>\n",
       "      <td>0.629464</td>\n",
       "      <td>0.687500</td>\n",
       "      <td>2</td>\n",
       "    </tr>\n",
       "    <tr>\n",
       "      <th>4</th>\n",
       "      <td>1478019953689774621.jpg</td>\n",
       "      <td>0.799107</td>\n",
       "      <td>0.852679</td>\n",
       "      <td>0.642857</td>\n",
       "      <td>0.691964</td>\n",
       "      <td>1</td>\n",
       "    </tr>\n",
       "  </tbody>\n",
       "</table>\n",
       "</div>"
      ],
      "text/plain": [
       "                     frame      xmin      xmax      ymin      ymax  class_id\n",
       "0  1478019952686311006.jpg  1.058036  1.120536  0.638393  0.691964         1\n",
       "1  1478019952686311006.jpg  1.950893  2.026786  0.535714  0.830357         3\n",
       "2  1478019953180167674.jpg  0.973214  1.031250  0.651786  0.705357         1\n",
       "3  1478019953689774621.jpg  0.763393  0.812500  0.629464  0.687500         2\n",
       "4  1478019953689774621.jpg  0.799107  0.852679  0.642857  0.691964         1"
      ]
     },
     "execution_count": 8,
     "metadata": {},
     "output_type": "execute_result"
    }
   ],
   "source": [
    "train_labels.head()"
   ]
  },
  {
   "cell_type": "code",
   "execution_count": 9,
   "metadata": {},
   "outputs": [],
   "source": [
    "val_labels[['xmin','xmax']]/=224"
   ]
  },
  {
   "cell_type": "code",
   "execution_count": 10,
   "metadata": {},
   "outputs": [],
   "source": [
    "val_labels[['ymin','ymax']]/=224"
   ]
  },
  {
   "cell_type": "code",
   "execution_count": 11,
   "metadata": {},
   "outputs": [
    {
     "data": {
      "text/html": [
       "<div>\n",
       "<style scoped>\n",
       "    .dataframe tbody tr th:only-of-type {\n",
       "        vertical-align: middle;\n",
       "    }\n",
       "\n",
       "    .dataframe tbody tr th {\n",
       "        vertical-align: top;\n",
       "    }\n",
       "\n",
       "    .dataframe thead th {\n",
       "        text-align: right;\n",
       "    }\n",
       "</style>\n",
       "<table border=\"1\" class=\"dataframe\">\n",
       "  <thead>\n",
       "    <tr style=\"text-align: right;\">\n",
       "      <th></th>\n",
       "      <th>frame</th>\n",
       "      <th>xmin</th>\n",
       "      <th>xmax</th>\n",
       "      <th>ymin</th>\n",
       "      <th>ymax</th>\n",
       "      <th>class_id</th>\n",
       "    </tr>\n",
       "  </thead>\n",
       "  <tbody>\n",
       "    <tr>\n",
       "      <th>0</th>\n",
       "      <td>1478019952686311006.jpg</td>\n",
       "      <td>1.058036</td>\n",
       "      <td>1.120536</td>\n",
       "      <td>0.638393</td>\n",
       "      <td>0.691964</td>\n",
       "      <td>1</td>\n",
       "    </tr>\n",
       "    <tr>\n",
       "      <th>1</th>\n",
       "      <td>1478019952686311006.jpg</td>\n",
       "      <td>1.950893</td>\n",
       "      <td>2.026786</td>\n",
       "      <td>0.535714</td>\n",
       "      <td>0.830357</td>\n",
       "      <td>3</td>\n",
       "    </tr>\n",
       "    <tr>\n",
       "      <th>2</th>\n",
       "      <td>1478019953180167674.jpg</td>\n",
       "      <td>0.973214</td>\n",
       "      <td>1.031250</td>\n",
       "      <td>0.651786</td>\n",
       "      <td>0.705357</td>\n",
       "      <td>1</td>\n",
       "    </tr>\n",
       "    <tr>\n",
       "      <th>3</th>\n",
       "      <td>1478019953689774621.jpg</td>\n",
       "      <td>0.763393</td>\n",
       "      <td>0.812500</td>\n",
       "      <td>0.629464</td>\n",
       "      <td>0.687500</td>\n",
       "      <td>2</td>\n",
       "    </tr>\n",
       "    <tr>\n",
       "      <th>4</th>\n",
       "      <td>1478019953689774621.jpg</td>\n",
       "      <td>0.799107</td>\n",
       "      <td>0.852679</td>\n",
       "      <td>0.642857</td>\n",
       "      <td>0.691964</td>\n",
       "      <td>1</td>\n",
       "    </tr>\n",
       "  </tbody>\n",
       "</table>\n",
       "</div>"
      ],
      "text/plain": [
       "                     frame      xmin      xmax      ymin      ymax  class_id\n",
       "0  1478019952686311006.jpg  1.058036  1.120536  0.638393  0.691964         1\n",
       "1  1478019952686311006.jpg  1.950893  2.026786  0.535714  0.830357         3\n",
       "2  1478019953180167674.jpg  0.973214  1.031250  0.651786  0.705357         1\n",
       "3  1478019953689774621.jpg  0.763393  0.812500  0.629464  0.687500         2\n",
       "4  1478019953689774621.jpg  0.799107  0.852679  0.642857  0.691964         1"
      ]
     },
     "execution_count": 11,
     "metadata": {},
     "output_type": "execute_result"
    }
   ],
   "source": [
    "val_labels.head()"
   ]
  },
  {
   "cell_type": "markdown",
   "metadata": {},
   "source": [
    "For splitting training data into train and test"
   ]
  },
  {
   "cell_type": "code",
   "execution_count": 12,
   "metadata": {},
   "outputs": [],
   "source": [
    "train_data, test_data=train_test_split(train_labels,test_size=0.2,random_state=42)"
   ]
  },
  {
   "cell_type": "markdown",
   "metadata": {},
   "source": [
    "For data augmentation"
   ]
  },
  {
   "cell_type": "code",
   "execution_count": 13,
   "metadata": {},
   "outputs": [],
   "source": [
    "augmentor= ImageDataGenerator(rotation_range=20,shear_range=0.2, zoom_range=0.2, horizontal_flip=True, fill_mode=\"nearest\", width_shift_range=0.2, height_shift_range=0.2)"
   ]
  },
  {
   "cell_type": "markdown",
   "metadata": {},
   "source": [
    "Preparing training data"
   ]
  },
  {
   "cell_type": "code",
   "execution_count": 14,
   "metadata": {},
   "outputs": [],
   "source": [
    "images=[]\n",
    "labels=[]\n",
    "for i,row in train_data.iterrows():\n",
    "    image_path=f\"cars/images/{row['frame']}\"\n",
    "    img=load_img(image_path, target_size=(224,224))\n",
    "    img=img_to_array(img)\n",
    "    img=augmentor.random_transform(img)\n",
    "    images.append(img)\n",
    "    labels.append([row['xmin'],row['xmax'],row['ymin'],row['ymax'],row['class_id']])"
   ]
  },
  {
   "cell_type": "code",
   "execution_count": 15,
   "metadata": {},
   "outputs": [],
   "source": [
    "images=np.array(images)"
   ]
  },
  {
   "cell_type": "code",
   "execution_count": 16,
   "metadata": {},
   "outputs": [],
   "source": [
    "labels=np.array(labels)"
   ]
  },
  {
   "cell_type": "code",
   "execution_count": 17,
   "metadata": {},
   "outputs": [],
   "source": [
    "test_images=[]\n",
    "test_labels=[]\n",
    "\n",
    "for i, row in test_data.iterrows():\n",
    "    image_path=f\"cars/images/{row['frame']}\"\n",
    "    img=load_img(image_path,target_size=(224,224))\n",
    "    img=img_to_array(img)\n",
    "    test_images.append(img)\n",
    "    test_labels.append([row['xmin'],row['xmax'],row['ymin'],row['ymax'],row['class_id']])\n",
    "\n",
    "    "
   ]
  },
  {
   "cell_type": "code",
   "execution_count": 18,
   "metadata": {},
   "outputs": [],
   "source": [
    "test_images=np.array(test_images)\n",
    "test_labels=np.array(test_labels)"
   ]
  },
  {
   "cell_type": "code",
   "execution_count": 19,
   "metadata": {},
   "outputs": [],
   "source": [
    "#creating a base model using ResNet\n",
    "#include_top=False because we are not importing output layers like dense and flatten\n",
    "base_model=ResNet50(weights=\"imagenet\",include_top=False, input_shape=(224,224,3))\n",
    "# Freeze the layers of the base model\n",
    "for layer in base_model.layers:\n",
    "    layer.trainable = False"
   ]
  },
  {
   "cell_type": "code",
   "execution_count": 20,
   "metadata": {},
   "outputs": [],
   "source": [
    "#extracting the feature map of the base model.\n",
    "x=base_model.output\n",
    "x=Flatten()(x)\n",
    "x=Dense(1024,activation=\"relu\")(x)\n",
    "x=Dense(512,activation=\"relu\")(x)\n",
    "#5 final memory neurons because 4 for bounding box coordinates and one for class label.\n",
    "output=Dense(5,activation=\"linear\")(x)"
   ]
  },
  {
   "cell_type": "code",
   "execution_count": 21,
   "metadata": {},
   "outputs": [],
   "source": [
    "model=Model(inputs=base_model.input,outputs=output)"
   ]
  },
  {
   "cell_type": "code",
   "execution_count": 22,
   "metadata": {},
   "outputs": [],
   "source": [
    "model.compile(optimizer=\"adam\",loss=\"mean_squared_error\",metrics=['accuracy'])"
   ]
  },
  {
   "cell_type": "code",
   "execution_count": 23,
   "metadata": {},
   "outputs": [],
   "source": [
    "#model.summary()"
   ]
  },
  {
   "cell_type": "markdown",
   "metadata": {},
   "source": [
    "Training the model for 10 epochs"
   ]
  },
  {
   "cell_type": "code",
   "execution_count": 24,
   "metadata": {},
   "outputs": [
    {
     "name": "stdout",
     "output_type": "stream",
     "text": [
      "Epoch 1/20\n",
      "\u001b[1m100/100\u001b[0m \u001b[32m━━━━━━━━━━━━━━━━━━━━\u001b[0m\u001b[37m\u001b[0m \u001b[1m139s\u001b[0m 1s/step - accuracy: 0.2848 - loss: 753.8194 - val_accuracy: 0.2850 - val_loss: 25.6225\n",
      "Epoch 2/20\n",
      "\u001b[1m100/100\u001b[0m \u001b[32m━━━━━━━━━━━━━━━━━━━━\u001b[0m\u001b[37m\u001b[0m \u001b[1m136s\u001b[0m 1s/step - accuracy: 0.3122 - loss: 45.0647 - val_accuracy: 0.1950 - val_loss: 4.5328\n",
      "Epoch 3/20\n",
      "\u001b[1m100/100\u001b[0m \u001b[32m━━━━━━━━━━━━━━━━━━━━\u001b[0m\u001b[37m\u001b[0m \u001b[1m120s\u001b[0m 1s/step - accuracy: 0.3693 - loss: 10.6077 - val_accuracy: 0.0800 - val_loss: 7.6584\n",
      "Epoch 4/20\n",
      "\u001b[1m100/100\u001b[0m \u001b[32m━━━━━━━━━━━━━━━━━━━━\u001b[0m\u001b[37m\u001b[0m \u001b[1m120s\u001b[0m 1s/step - accuracy: 0.4599 - loss: 6.0644 - val_accuracy: 0.6700 - val_loss: 3.2302\n",
      "Epoch 5/20\n",
      "\u001b[1m100/100\u001b[0m \u001b[32m━━━━━━━━━━━━━━━━━━━━\u001b[0m\u001b[37m\u001b[0m \u001b[1m124s\u001b[0m 1s/step - accuracy: 0.5687 - loss: 1.7681 - val_accuracy: 0.8000 - val_loss: 2.6190\n",
      "Epoch 6/20\n",
      "\u001b[1m100/100\u001b[0m \u001b[32m━━━━━━━━━━━━━━━━━━━━\u001b[0m\u001b[37m\u001b[0m \u001b[1m119s\u001b[0m 1s/step - accuracy: 0.6893 - loss: 0.7874 - val_accuracy: 0.8250 - val_loss: 1.0574\n",
      "Epoch 7/20\n",
      "\u001b[1m100/100\u001b[0m \u001b[32m━━━━━━━━━━━━━━━━━━━━\u001b[0m\u001b[37m\u001b[0m \u001b[1m119s\u001b[0m 1s/step - accuracy: 0.6694 - loss: 0.3474 - val_accuracy: 0.7600 - val_loss: 1.0594\n",
      "Epoch 8/20\n",
      "\u001b[1m100/100\u001b[0m \u001b[32m━━━━━━━━━━━━━━━━━━━━\u001b[0m\u001b[37m\u001b[0m \u001b[1m120s\u001b[0m 1s/step - accuracy: 0.6862 - loss: 0.2696 - val_accuracy: 0.7500 - val_loss: 1.0638\n",
      "Epoch 9/20\n",
      "\u001b[1m100/100\u001b[0m \u001b[32m━━━━━━━━━━━━━━━━━━━━\u001b[0m\u001b[37m\u001b[0m \u001b[1m121s\u001b[0m 1s/step - accuracy: 0.6964 - loss: 0.1823 - val_accuracy: 0.8450 - val_loss: 1.2561\n",
      "Epoch 10/20\n",
      "\u001b[1m100/100\u001b[0m \u001b[32m━━━━━━━━━━━━━━━━━━━━\u001b[0m\u001b[37m\u001b[0m \u001b[1m121s\u001b[0m 1s/step - accuracy: 0.7092 - loss: 0.1603 - val_accuracy: 0.8150 - val_loss: 0.9490\n",
      "Epoch 11/20\n",
      "\u001b[1m100/100\u001b[0m \u001b[32m━━━━━━━━━━━━━━━━━━━━\u001b[0m\u001b[37m\u001b[0m \u001b[1m126s\u001b[0m 1s/step - accuracy: 0.7256 - loss: 0.1494 - val_accuracy: 0.7550 - val_loss: 1.1367\n",
      "Epoch 12/20\n",
      "\u001b[1m100/100\u001b[0m \u001b[32m━━━━━━━━━━━━━━━━━━━━\u001b[0m\u001b[37m\u001b[0m \u001b[1m123s\u001b[0m 1s/step - accuracy: 0.7080 - loss: 0.1753 - val_accuracy: 0.7900 - val_loss: 0.9491\n",
      "Epoch 13/20\n",
      "\u001b[1m100/100\u001b[0m \u001b[32m━━━━━━━━━━━━━━━━━━━━\u001b[0m\u001b[37m\u001b[0m \u001b[1m125s\u001b[0m 1s/step - accuracy: 0.6962 - loss: 0.3271 - val_accuracy: 0.7950 - val_loss: 1.0951\n",
      "Epoch 14/20\n",
      "\u001b[1m100/100\u001b[0m \u001b[32m━━━━━━━━━━━━━━━━━━━━\u001b[0m\u001b[37m\u001b[0m \u001b[1m124s\u001b[0m 1s/step - accuracy: 0.7190 - loss: 0.2647 - val_accuracy: 0.7900 - val_loss: 1.0993\n",
      "Epoch 15/20\n",
      "\u001b[1m100/100\u001b[0m \u001b[32m━━━━━━━━━━━━━━━━━━━━\u001b[0m\u001b[37m\u001b[0m \u001b[1m123s\u001b[0m 1s/step - accuracy: 0.6768 - loss: 0.2994 - val_accuracy: 0.6750 - val_loss: 1.2212\n",
      "Epoch 16/20\n",
      "\u001b[1m100/100\u001b[0m \u001b[32m━━━━━━━━━━━━━━━━━━━━\u001b[0m\u001b[37m\u001b[0m \u001b[1m124s\u001b[0m 1s/step - accuracy: 0.6741 - loss: 0.2979 - val_accuracy: 0.8400 - val_loss: 1.4860\n",
      "Epoch 17/20\n",
      "\u001b[1m100/100\u001b[0m \u001b[32m━━━━━━━━━━━━━━━━━━━━\u001b[0m\u001b[37m\u001b[0m \u001b[1m123s\u001b[0m 1s/step - accuracy: 0.7236 - loss: 0.3931 - val_accuracy: 0.4500 - val_loss: 1.5318\n",
      "Epoch 18/20\n",
      "\u001b[1m100/100\u001b[0m \u001b[32m━━━━━━━━━━━━━━━━━━━━\u001b[0m\u001b[37m\u001b[0m \u001b[1m124s\u001b[0m 1s/step - accuracy: 0.6598 - loss: 0.4969 - val_accuracy: 0.8300 - val_loss: 1.2022\n",
      "Epoch 19/20\n",
      "\u001b[1m100/100\u001b[0m \u001b[32m━━━━━━━━━━━━━━━━━━━━\u001b[0m\u001b[37m\u001b[0m \u001b[1m123s\u001b[0m 1s/step - accuracy: 0.6612 - loss: 0.5080 - val_accuracy: 0.7650 - val_loss: 1.1625\n",
      "Epoch 20/20\n",
      "\u001b[1m100/100\u001b[0m \u001b[32m━━━━━━━━━━━━━━━━━━━━\u001b[0m\u001b[37m\u001b[0m \u001b[1m122s\u001b[0m 1s/step - accuracy: 0.7101 - loss: 0.2743 - val_accuracy: 0.5750 - val_loss: 1.2567\n"
     ]
    },
    {
     "data": {
      "text/plain": [
       "<keras.src.callbacks.history.History at 0x30666d820>"
      ]
     },
     "execution_count": 24,
     "metadata": {},
     "output_type": "execute_result"
    }
   ],
   "source": [
    "model.fit(images,labels,batch_size=8,epochs=20,validation_data=(test_images,test_labels))"
   ]
  },
  {
   "cell_type": "code",
   "execution_count": 37,
   "metadata": {},
   "outputs": [
    {
     "name": "stdout",
     "output_type": "stream",
     "text": [
      "\u001b[1m7/7\u001b[0m \u001b[32m━━━━━━━━━━━━━━━━━━━━\u001b[0m\u001b[37m\u001b[0m \u001b[1m19s\u001b[0m 3s/step - accuracy: 0.5839 - loss: 1.2160\n"
     ]
    },
    {
     "data": {
      "text/plain": [
       "[1.2566773891448975, 0.574999988079071]"
      ]
     },
     "execution_count": 37,
     "metadata": {},
     "output_type": "execute_result"
    }
   ],
   "source": [
    "#Evaluating the model\n",
    "\n",
    "model.evaluate(test_images, test_labels)"
   ]
  },
  {
   "cell_type": "code",
   "execution_count": 38,
   "metadata": {},
   "outputs": [
    {
     "name": "stdout",
     "output_type": "stream",
     "text": [
      "\u001b[1m7/7\u001b[0m \u001b[32m━━━━━━━━━━━━━━━━━━━━\u001b[0m\u001b[37m\u001b[0m \u001b[1m14s\u001b[0m 2s/step\n"
     ]
    }
   ],
   "source": [
    "predictions=model.predict(test_images)"
   ]
  },
  {
   "cell_type": "code",
   "execution_count": 39,
   "metadata": {},
   "outputs": [],
   "source": [
    "#Extracting class labels\n",
    "y_true=test_labels[:,4]\n",
    "y_prediction=np.argmax(predictions[:,4:],axis=1)#extracting predicted class labels.\n"
   ]
  },
  {
   "cell_type": "code",
   "execution_count": 40,
   "metadata": {},
   "outputs": [
    {
     "name": "stderr",
     "output_type": "stream",
     "text": [
      "/Applications/selfdrivingcar/myenv/lib/python3.12/site-packages/sklearn/metrics/_classification.py:1531: UndefinedMetricWarning: Precision is ill-defined and being set to 0.0 in labels with no predicted samples. Use `zero_division` parameter to control this behavior.\n",
      "  _warn_prf(average, modifier, f\"{metric.capitalize()} is\", len(result))\n",
      "/Applications/selfdrivingcar/myenv/lib/python3.12/site-packages/sklearn/metrics/_classification.py:1531: UndefinedMetricWarning: Recall is ill-defined and being set to 0.0 in labels with no true samples. Use `zero_division` parameter to control this behavior.\n",
      "  _warn_prf(average, modifier, f\"{metric.capitalize()} is\", len(result))\n"
     ]
    }
   ],
   "source": [
    "precision,recall,f1,support=precision_recall_fscore_support(y_true,y_prediction,average=None)"
   ]
  },
  {
   "cell_type": "code",
   "execution_count": 41,
   "metadata": {},
   "outputs": [
    {
     "name": "stdout",
     "output_type": "stream",
     "text": [
      "Class 1.0 - Precision: 0.0000, Recall: 0.0000, F1 Score: 0.0000\n",
      "Class 2.0 - Precision: 0.0000, Recall: 0.0000, F1 Score: 0.0000\n",
      "Class 3.0 - Precision: 0.0000, Recall: 0.0000, F1 Score: 0.0000\n",
      "Class 4.0 - Precision: 0.0000, Recall: 0.0000, F1 Score: 0.0000\n",
      "Class 5.0 - Precision: 0.0000, Recall: 0.0000, F1 Score: 0.0000\n"
     ]
    }
   ],
   "source": [
    "for i, class_id in enumerate(np.unique(y_true)):\n",
    "    print(f\"Class {class_id} - Precision: {precision[i]:.4f}, Recall: {recall[i]:.4f}, F1 Score: {f1[i]:.4f}\")"
   ]
  },
  {
   "cell_type": "code",
   "execution_count": 30,
   "metadata": {},
   "outputs": [
    {
     "data": {
      "text/html": [
       "<div>\n",
       "<style scoped>\n",
       "    .dataframe tbody tr th:only-of-type {\n",
       "        vertical-align: middle;\n",
       "    }\n",
       "\n",
       "    .dataframe tbody tr th {\n",
       "        vertical-align: top;\n",
       "    }\n",
       "\n",
       "    .dataframe thead th {\n",
       "        text-align: right;\n",
       "    }\n",
       "</style>\n",
       "<table border=\"1\" class=\"dataframe\">\n",
       "  <thead>\n",
       "    <tr style=\"text-align: right;\">\n",
       "      <th></th>\n",
       "      <th>frame</th>\n",
       "      <th>xmin</th>\n",
       "      <th>xmax</th>\n",
       "      <th>ymin</th>\n",
       "      <th>ymax</th>\n",
       "      <th>class_id</th>\n",
       "    </tr>\n",
       "  </thead>\n",
       "  <tbody>\n",
       "    <tr>\n",
       "      <th>29</th>\n",
       "      <td>1478019956680248165.jpg</td>\n",
       "      <td>0.808036</td>\n",
       "      <td>0.861607</td>\n",
       "      <td>0.638393</td>\n",
       "      <td>0.683036</td>\n",
       "      <td>1</td>\n",
       "    </tr>\n",
       "    <tr>\n",
       "      <th>535</th>\n",
       "      <td>1478020210190790169.jpg</td>\n",
       "      <td>1.232143</td>\n",
       "      <td>1.272321</td>\n",
       "      <td>0.566964</td>\n",
       "      <td>0.616071</td>\n",
       "      <td>5</td>\n",
       "    </tr>\n",
       "    <tr>\n",
       "      <th>695</th>\n",
       "      <td>1478020223699479085.jpg</td>\n",
       "      <td>1.196429</td>\n",
       "      <td>1.281250</td>\n",
       "      <td>0.642857</td>\n",
       "      <td>0.705357</td>\n",
       "      <td>1</td>\n",
       "    </tr>\n",
       "    <tr>\n",
       "      <th>557</th>\n",
       "      <td>1478020211190321969.jpg</td>\n",
       "      <td>0.941964</td>\n",
       "      <td>0.959821</td>\n",
       "      <td>0.486607</td>\n",
       "      <td>0.522321</td>\n",
       "      <td>5</td>\n",
       "    </tr>\n",
       "    <tr>\n",
       "      <th>836</th>\n",
       "      <td>1478020232212661501.jpg</td>\n",
       "      <td>0.665179</td>\n",
       "      <td>0.705357</td>\n",
       "      <td>0.625000</td>\n",
       "      <td>0.678571</td>\n",
       "      <td>1</td>\n",
       "    </tr>\n",
       "    <tr>\n",
       "      <th>...</th>\n",
       "      <td>...</td>\n",
       "      <td>...</td>\n",
       "      <td>...</td>\n",
       "      <td>...</td>\n",
       "      <td>...</td>\n",
       "      <td>...</td>\n",
       "    </tr>\n",
       "    <tr>\n",
       "      <th>106</th>\n",
       "      <td>1478019965682301515.jpg</td>\n",
       "      <td>1.151786</td>\n",
       "      <td>1.223214</td>\n",
       "      <td>0.629464</td>\n",
       "      <td>0.674107</td>\n",
       "      <td>1</td>\n",
       "    </tr>\n",
       "    <tr>\n",
       "      <th>270</th>\n",
       "      <td>1478019975180844551.jpg</td>\n",
       "      <td>1.151786</td>\n",
       "      <td>1.191964</td>\n",
       "      <td>0.419643</td>\n",
       "      <td>0.486607</td>\n",
       "      <td>5</td>\n",
       "    </tr>\n",
       "    <tr>\n",
       "      <th>860</th>\n",
       "      <td>1478020232692272848.jpg</td>\n",
       "      <td>1.357143</td>\n",
       "      <td>1.575893</td>\n",
       "      <td>0.607143</td>\n",
       "      <td>0.763393</td>\n",
       "      <td>1</td>\n",
       "    </tr>\n",
       "    <tr>\n",
       "      <th>435</th>\n",
       "      <td>1478020205689678816.jpg</td>\n",
       "      <td>1.062500</td>\n",
       "      <td>1.093750</td>\n",
       "      <td>0.553571</td>\n",
       "      <td>0.607143</td>\n",
       "      <td>5</td>\n",
       "    </tr>\n",
       "    <tr>\n",
       "      <th>102</th>\n",
       "      <td>1478019965181415731.jpg</td>\n",
       "      <td>1.464286</td>\n",
       "      <td>1.526786</td>\n",
       "      <td>0.589286</td>\n",
       "      <td>0.732143</td>\n",
       "      <td>3</td>\n",
       "    </tr>\n",
       "  </tbody>\n",
       "</table>\n",
       "<p>800 rows × 6 columns</p>\n",
       "</div>"
      ],
      "text/plain": [
       "                       frame      xmin      xmax      ymin      ymax  class_id\n",
       "29   1478019956680248165.jpg  0.808036  0.861607  0.638393  0.683036         1\n",
       "535  1478020210190790169.jpg  1.232143  1.272321  0.566964  0.616071         5\n",
       "695  1478020223699479085.jpg  1.196429  1.281250  0.642857  0.705357         1\n",
       "557  1478020211190321969.jpg  0.941964  0.959821  0.486607  0.522321         5\n",
       "836  1478020232212661501.jpg  0.665179  0.705357  0.625000  0.678571         1\n",
       "..                       ...       ...       ...       ...       ...       ...\n",
       "106  1478019965682301515.jpg  1.151786  1.223214  0.629464  0.674107         1\n",
       "270  1478019975180844551.jpg  1.151786  1.191964  0.419643  0.486607         5\n",
       "860  1478020232692272848.jpg  1.357143  1.575893  0.607143  0.763393         1\n",
       "435  1478020205689678816.jpg  1.062500  1.093750  0.553571  0.607143         5\n",
       "102  1478019965181415731.jpg  1.464286  1.526786  0.589286  0.732143         3\n",
       "\n",
       "[800 rows x 6 columns]"
      ]
     },
     "execution_count": 30,
     "metadata": {},
     "output_type": "execute_result"
    }
   ],
   "source": [
    "train_data"
   ]
  },
  {
   "cell_type": "code",
   "execution_count": 31,
   "metadata": {},
   "outputs": [
    {
     "data": {
      "text/html": [
       "<div>\n",
       "<style scoped>\n",
       "    .dataframe tbody tr th:only-of-type {\n",
       "        vertical-align: middle;\n",
       "    }\n",
       "\n",
       "    .dataframe tbody tr th {\n",
       "        vertical-align: top;\n",
       "    }\n",
       "\n",
       "    .dataframe thead th {\n",
       "        text-align: right;\n",
       "    }\n",
       "</style>\n",
       "<table border=\"1\" class=\"dataframe\">\n",
       "  <thead>\n",
       "    <tr style=\"text-align: right;\">\n",
       "      <th></th>\n",
       "      <th>frame</th>\n",
       "      <th>xmin</th>\n",
       "      <th>xmax</th>\n",
       "      <th>ymin</th>\n",
       "      <th>ymax</th>\n",
       "      <th>class_id</th>\n",
       "    </tr>\n",
       "  </thead>\n",
       "  <tbody>\n",
       "    <tr>\n",
       "      <th>521</th>\n",
       "      <td>1478020209691270577.jpg</td>\n",
       "      <td>1.218750</td>\n",
       "      <td>1.254464</td>\n",
       "      <td>0.558036</td>\n",
       "      <td>0.607143</td>\n",
       "      <td>5</td>\n",
       "    </tr>\n",
       "    <tr>\n",
       "      <th>737</th>\n",
       "      <td>1478020228190773357.jpg</td>\n",
       "      <td>1.133929</td>\n",
       "      <td>1.165179</td>\n",
       "      <td>0.562500</td>\n",
       "      <td>0.602679</td>\n",
       "      <td>5</td>\n",
       "    </tr>\n",
       "    <tr>\n",
       "      <th>740</th>\n",
       "      <td>1478020228190773357.jpg</td>\n",
       "      <td>1.178571</td>\n",
       "      <td>1.250000</td>\n",
       "      <td>0.625000</td>\n",
       "      <td>0.683036</td>\n",
       "      <td>1</td>\n",
       "    </tr>\n",
       "    <tr>\n",
       "      <th>660</th>\n",
       "      <td>1478020220191836915.jpg</td>\n",
       "      <td>1.142857</td>\n",
       "      <td>1.209821</td>\n",
       "      <td>0.629464</td>\n",
       "      <td>0.683036</td>\n",
       "      <td>1</td>\n",
       "    </tr>\n",
       "    <tr>\n",
       "      <th>411</th>\n",
       "      <td>1478020203690068016.jpg</td>\n",
       "      <td>0.959821</td>\n",
       "      <td>0.991071</td>\n",
       "      <td>0.558036</td>\n",
       "      <td>0.607143</td>\n",
       "      <td>5</td>\n",
       "    </tr>\n",
       "    <tr>\n",
       "      <th>...</th>\n",
       "      <td>...</td>\n",
       "      <td>...</td>\n",
       "      <td>...</td>\n",
       "      <td>...</td>\n",
       "      <td>...</td>\n",
       "      <td>...</td>\n",
       "    </tr>\n",
       "    <tr>\n",
       "      <th>408</th>\n",
       "      <td>1478020203690068016.jpg</td>\n",
       "      <td>0.857143</td>\n",
       "      <td>0.928571</td>\n",
       "      <td>0.625000</td>\n",
       "      <td>0.678571</td>\n",
       "      <td>1</td>\n",
       "    </tr>\n",
       "    <tr>\n",
       "      <th>332</th>\n",
       "      <td>1478019982681185768.jpg</td>\n",
       "      <td>1.620536</td>\n",
       "      <td>1.691964</td>\n",
       "      <td>0.616071</td>\n",
       "      <td>0.785714</td>\n",
       "      <td>3</td>\n",
       "    </tr>\n",
       "    <tr>\n",
       "      <th>208</th>\n",
       "      <td>1478019973687625979.jpg</td>\n",
       "      <td>0.491071</td>\n",
       "      <td>0.517857</td>\n",
       "      <td>0.558036</td>\n",
       "      <td>0.598214</td>\n",
       "      <td>5</td>\n",
       "    </tr>\n",
       "    <tr>\n",
       "      <th>613</th>\n",
       "      <td>1478020214191388441.jpg</td>\n",
       "      <td>1.455357</td>\n",
       "      <td>1.486607</td>\n",
       "      <td>0.500000</td>\n",
       "      <td>0.549107</td>\n",
       "      <td>5</td>\n",
       "    </tr>\n",
       "    <tr>\n",
       "      <th>78</th>\n",
       "      <td>1478019962681840550.jpg</td>\n",
       "      <td>1.861607</td>\n",
       "      <td>1.959821</td>\n",
       "      <td>0.598214</td>\n",
       "      <td>0.647321</td>\n",
       "      <td>1</td>\n",
       "    </tr>\n",
       "  </tbody>\n",
       "</table>\n",
       "<p>200 rows × 6 columns</p>\n",
       "</div>"
      ],
      "text/plain": [
       "                       frame      xmin      xmax      ymin      ymax  class_id\n",
       "521  1478020209691270577.jpg  1.218750  1.254464  0.558036  0.607143         5\n",
       "737  1478020228190773357.jpg  1.133929  1.165179  0.562500  0.602679         5\n",
       "740  1478020228190773357.jpg  1.178571  1.250000  0.625000  0.683036         1\n",
       "660  1478020220191836915.jpg  1.142857  1.209821  0.629464  0.683036         1\n",
       "411  1478020203690068016.jpg  0.959821  0.991071  0.558036  0.607143         5\n",
       "..                       ...       ...       ...       ...       ...       ...\n",
       "408  1478020203690068016.jpg  0.857143  0.928571  0.625000  0.678571         1\n",
       "332  1478019982681185768.jpg  1.620536  1.691964  0.616071  0.785714         3\n",
       "208  1478019973687625979.jpg  0.491071  0.517857  0.558036  0.598214         5\n",
       "613  1478020214191388441.jpg  1.455357  1.486607  0.500000  0.549107         5\n",
       "78   1478019962681840550.jpg  1.861607  1.959821  0.598214  0.647321         1\n",
       "\n",
       "[200 rows x 6 columns]"
      ]
     },
     "execution_count": 31,
     "metadata": {},
     "output_type": "execute_result"
    }
   ],
   "source": [
    "test_data"
   ]
  },
  {
   "cell_type": "code",
   "execution_count": 42,
   "metadata": {},
   "outputs": [
    {
     "name": "stdout",
     "output_type": "stream",
     "text": [
      "Collecting matplotlib\n",
      "  Downloading matplotlib-3.9.1.post1-cp312-cp312-macosx_11_0_arm64.whl.metadata (11 kB)\n",
      "Collecting contourpy>=1.0.1 (from matplotlib)\n",
      "  Downloading contourpy-1.2.1-cp312-cp312-macosx_11_0_arm64.whl.metadata (5.8 kB)\n",
      "Collecting cycler>=0.10 (from matplotlib)\n",
      "  Using cached cycler-0.12.1-py3-none-any.whl.metadata (3.8 kB)\n",
      "Collecting fonttools>=4.22.0 (from matplotlib)\n",
      "  Downloading fonttools-4.53.1-cp312-cp312-macosx_11_0_arm64.whl.metadata (162 kB)\n",
      "\u001b[2K     \u001b[90m━━━━━━━━━━━━━━━━━━━━━━━━━━━━━━━━━━━━━━━\u001b[0m \u001b[32m162.6/162.6 kB\u001b[0m \u001b[31m3.0 MB/s\u001b[0m eta \u001b[36m0:00:00\u001b[0ma \u001b[36m0:00:01\u001b[0m\n",
      "\u001b[?25hCollecting kiwisolver>=1.3.1 (from matplotlib)\n",
      "  Downloading kiwisolver-1.4.5-cp312-cp312-macosx_11_0_arm64.whl.metadata (6.4 kB)\n",
      "Requirement already satisfied: numpy>=1.23 in ./myenv/lib/python3.12/site-packages (from matplotlib) (1.26.4)\n",
      "Requirement already satisfied: packaging>=20.0 in ./myenv/lib/python3.12/site-packages (from matplotlib) (24.1)\n",
      "Requirement already satisfied: pillow>=8 in ./myenv/lib/python3.12/site-packages (from matplotlib) (10.4.0)\n",
      "Collecting pyparsing>=2.3.1 (from matplotlib)\n",
      "  Using cached pyparsing-3.1.2-py3-none-any.whl.metadata (5.1 kB)\n",
      "Requirement already satisfied: python-dateutil>=2.7 in ./myenv/lib/python3.12/site-packages (from matplotlib) (2.9.0.post0)\n",
      "Requirement already satisfied: six>=1.5 in ./myenv/lib/python3.12/site-packages (from python-dateutil>=2.7->matplotlib) (1.16.0)\n",
      "Downloading matplotlib-3.9.1.post1-cp312-cp312-macosx_11_0_arm64.whl (7.8 MB)\n",
      "\u001b[2K   \u001b[90m━━━━━━━━━━━━━━━━━━━━━━━━━━━━━━━━━━━━━━━━\u001b[0m \u001b[32m7.8/7.8 MB\u001b[0m \u001b[31m23.5 MB/s\u001b[0m eta \u001b[36m0:00:00\u001b[0m00:01\u001b[0m00:01\u001b[0m\n",
      "\u001b[?25hDownloading contourpy-1.2.1-cp312-cp312-macosx_11_0_arm64.whl (245 kB)\n",
      "\u001b[2K   \u001b[90m━━━━━━━━━━━━━━━━━━━━━━━━━━━━━━━━━━━━━━━━\u001b[0m \u001b[32m245.3/245.3 kB\u001b[0m \u001b[31m20.9 MB/s\u001b[0m eta \u001b[36m0:00:00\u001b[0m\n",
      "\u001b[?25hUsing cached cycler-0.12.1-py3-none-any.whl (8.3 kB)\n",
      "Downloading fonttools-4.53.1-cp312-cp312-macosx_11_0_arm64.whl (2.2 MB)\n",
      "\u001b[2K   \u001b[90m━━━━━━━━━━━━━━━━━━━━━━━━━━━━━━━━━━━━━━━━\u001b[0m \u001b[32m2.2/2.2 MB\u001b[0m \u001b[31m27.4 MB/s\u001b[0m eta \u001b[36m0:00:00\u001b[0ma \u001b[36m0:00:01\u001b[0m\n",
      "\u001b[?25hDownloading kiwisolver-1.4.5-cp312-cp312-macosx_11_0_arm64.whl (64 kB)\n",
      "\u001b[2K   \u001b[90m━━━━━━━━━━━━━━━━━━━━━━━━━━━━━━━━━━━━━━━━\u001b[0m \u001b[32m65.0/65.0 kB\u001b[0m \u001b[31m5.6 MB/s\u001b[0m eta \u001b[36m0:00:00\u001b[0m\n",
      "\u001b[?25hUsing cached pyparsing-3.1.2-py3-none-any.whl (103 kB)\n",
      "Installing collected packages: pyparsing, kiwisolver, fonttools, cycler, contourpy, matplotlib\n",
      "Successfully installed contourpy-1.2.1 cycler-0.12.1 fonttools-4.53.1 kiwisolver-1.4.5 matplotlib-3.9.1.post1 pyparsing-3.1.2\n",
      "\n",
      "\u001b[1m[\u001b[0m\u001b[34;49mnotice\u001b[0m\u001b[1;39;49m]\u001b[0m\u001b[39;49m A new release of pip is available: \u001b[0m\u001b[31;49m24.0\u001b[0m\u001b[39;49m -> \u001b[0m\u001b[32;49m24.2\u001b[0m\n",
      "\u001b[1m[\u001b[0m\u001b[34;49mnotice\u001b[0m\u001b[1;39;49m]\u001b[0m\u001b[39;49m To update, run: \u001b[0m\u001b[32;49mpip install --upgrade pip\u001b[0m\n",
      "Note: you may need to restart the kernel to use updated packages.\n"
     ]
    }
   ],
   "source": [
    "%pip install matplotlib"
   ]
  },
  {
   "cell_type": "code",
   "execution_count": null,
   "metadata": {},
   "outputs": [],
   "source": []
  }
 ],
 "metadata": {
  "kernelspec": {
   "display_name": "myenv",
   "language": "python",
   "name": "python3"
  },
  "language_info": {
   "codemirror_mode": {
    "name": "ipython",
    "version": 3
   },
   "file_extension": ".py",
   "mimetype": "text/x-python",
   "name": "python",
   "nbconvert_exporter": "python",
   "pygments_lexer": "ipython3",
   "version": "3.12.2"
  }
 },
 "nbformat": 4,
 "nbformat_minor": 2
}
